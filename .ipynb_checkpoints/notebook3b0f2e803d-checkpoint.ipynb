{
 "cells": [
  {
   "cell_type": "markdown",
   "id": "917b7641",
   "metadata": {},
   "source": [
    "![cover image](images/fraud.png)"
   ]
  },
  {
   "cell_type": "markdown",
   "id": "0f356f92",
   "metadata": {},
   "source": [
    "# Project Overview\n",
    "\n",
    "This project was developed for Elucidate AI technical assessment. It aims to provide solution to the problem of fraud within transactional bank account by using clever data analysis and Machine learning with a view to help save millions of dollars.\n",
    "\n",
    "This notebook outlines the step-by-step process for creating a machine learning solution, starting with exploratory data analysis and continuing through modeling, evaluation, and deployment phase. <br><br>"
   ]
  },
  {
   "cell_type": "markdown",
   "id": "a8e7543e",
   "metadata": {},
   "source": [
    "# Table of Contents     <a id=\"content\"></a>\n",
    "\n",
    "\n",
    "<a href=#1>1. Packages </a>\n",
    "\n",
    "<a href=#2>2. Loading Data</a>\n",
    "\n",
    "<a href=#4>3. Exploratory Data Analysis (EDA)</a>\n",
    "\n",
    "<a href=#5>4. Data Cleaning and Feature Engineering</a>\n",
    "\n",
    "<a href=#6>6. Modeling and Evaluation</a>\n",
    "\n",
    "<a href=#7> 7 Choice of Model </a>\n",
    "\n",
    "<a href=#8>8. Conclusion </a> <br><br>"
   ]
  },
  {
   "cell_type": "markdown",
   "id": "cb74a053",
   "metadata": {},
   "source": [
    "# 1.0 Importing Packages"
   ]
  },
  {
   "cell_type": "code",
   "execution_count": 3,
   "id": "96ff9e35",
   "metadata": {
    "execution": {
     "iopub.execute_input": "2022-10-13T14:12:09.528183Z",
     "iopub.status.busy": "2022-10-13T14:12:09.527696Z",
     "iopub.status.idle": "2022-10-13T14:12:09.898616Z",
     "shell.execute_reply": "2022-10-13T14:12:09.897213Z",
     "shell.execute_reply.started": "2022-10-13T14:12:09.528139Z"
    }
   },
   "outputs": [],
   "source": [
    "## Data loading and processing\n",
    "import numpy as np\n",
    "import pandas as pd\n",
    "\n",
    "# Data Visualisation\n",
    "import seaborn as sns\n",
    "import matplotlib.pyplot as plt\n",
    "\n",
    "# Modeling and Evaluation\n",
    "from sklearn.model_selection import train_test_split\n",
    "from sklearn.metrics import classification_report\n",
    "from sklearn.metrics import recall_score\n",
    "from sklearn.metrics import precision_score\n",
    "from sklearn.metrics import f1_score\n",
    "from sklearn.model_selection import GridSearchCV\n",
    "from sklearn.ensemble import RandomForestClassifier, AdaBoostClassifier\n",
    "from sklearn.linear_model import RidgeClassifier\n",
    "from sklearn.svm import SVC\n",
    "import xgboost as xgb\n",
    "from sklearn.neighbors import KNeighborsClassifier\n",
    "from sklearn.linear_model import SGDClassifier\n",
    "\n",
    "# Resampling   \n",
    "from imblearn.over_sampling import SMOTE\n",
    "\n",
    "# Ignore warnings\n",
    "import warnings\n",
    "warnings.simplefilter(action='ignore')\n"
   ]
  },
  {
   "cell_type": "markdown",
   "id": "afa0f87d",
   "metadata": {},
   "source": [
    "<br>\n",
    "\n",
    "# 2.0 Loading Dataset\n",
    "\n",
    "The tool used for handling datasets in this project is [Pandas](https://pandas.pydata.org/). The dataset for this project is located in the dataset folder accompanying this notebook. [Pandas.read_csv](https://pandas.pydata.org/pandas-docs/stable/reference/api/pandas.read_csv.html) method was used to load the dataset into a [pandas dataframe.](https://www.databricks.com/glossary/what-are-dataframes)"
   ]
  },
  {
   "cell_type": "code",
   "execution_count": 4,
   "id": "9eea9533",
   "metadata": {
    "execution": {
     "iopub.execute_input": "2022-10-13T14:12:31.172699Z",
     "iopub.status.busy": "2022-10-13T14:12:31.172279Z",
     "iopub.status.idle": "2022-10-13T14:12:32.455327Z",
     "shell.execute_reply": "2022-10-13T14:12:32.454191Z",
     "shell.execute_reply.started": "2022-10-13T14:12:31.172664Z"
    }
   },
   "outputs": [],
   "source": [
    "path = 'dataset/bank_fraud.csv'\n",
    "dataset = pd.read_csv(path)"
   ]
  },
  {
   "cell_type": "markdown",
   "id": "1266e8ba",
   "metadata": {},
   "source": [
    "<br>\n",
    "\n",
    "# 3.0 Exploratory Data Analysis\n",
    "\n",
    "In this stage of the project, the dataset was analyzed to highlight its key features, typically using visual techniques. The main purpose of this phase is to find out what other information the data can offer outside formal modeling or hypothesis testing. A number of tools were used to maximize insight into the data set, extract key variables, detect outliers and anomalies, among other information that is often not apparent when looking at the dataset. This stage is crucial, especially when applying machine learning algorithms to the data model. <br>"
   ]
  },
  {
   "cell_type": "markdown",
   "id": "cf36bd12",
   "metadata": {},
   "source": [
    "## 3.1 Overview of the Dataset"
   ]
  },
  {
   "cell_type": "code",
   "execution_count": 3,
   "id": "88dc6604",
   "metadata": {},
   "outputs": [
    {
     "data": {
      "text/plain": [
       "(594643, 10)"
      ]
     },
     "execution_count": 3,
     "metadata": {},
     "output_type": "execute_result"
    }
   ],
   "source": [
    "# check the size of the dataset\n",
    "dataset.shape"
   ]
  },
  {
   "cell_type": "markdown",
   "id": "d982c0c5",
   "metadata": {},
   "source": [
    "The dataset contains 594,643 rows and 10 features. It is a fairly huge dataset. There might be a need to seek means to reduce the memory consumption of the dataset to optimise the speed during the modelling phase<br><br>"
   ]
  },
  {
   "cell_type": "code",
   "execution_count": 4,
   "id": "b41a66f2",
   "metadata": {},
   "outputs": [
    {
     "data": {
      "text/html": [
       "<div>\n",
       "<style scoped>\n",
       "    .dataframe tbody tr th:only-of-type {\n",
       "        vertical-align: middle;\n",
       "    }\n",
       "\n",
       "    .dataframe tbody tr th {\n",
       "        vertical-align: top;\n",
       "    }\n",
       "\n",
       "    .dataframe thead th {\n",
       "        text-align: right;\n",
       "    }\n",
       "</style>\n",
       "<table border=\"1\" class=\"dataframe\">\n",
       "  <thead>\n",
       "    <tr style=\"text-align: right;\">\n",
       "      <th></th>\n",
       "      <th>step</th>\n",
       "      <th>customer</th>\n",
       "      <th>age</th>\n",
       "      <th>gender</th>\n",
       "      <th>zipcodeOri</th>\n",
       "      <th>merchant</th>\n",
       "      <th>zipMerchant</th>\n",
       "      <th>category</th>\n",
       "      <th>amount</th>\n",
       "      <th>fraud</th>\n",
       "    </tr>\n",
       "  </thead>\n",
       "  <tbody>\n",
       "    <tr>\n",
       "      <th>0</th>\n",
       "      <td>0</td>\n",
       "      <td>'C1093826151'</td>\n",
       "      <td>'4'</td>\n",
       "      <td>'M'</td>\n",
       "      <td>'28007'</td>\n",
       "      <td>'M348934600'</td>\n",
       "      <td>'28007'</td>\n",
       "      <td>'es_transportation'</td>\n",
       "      <td>4.55</td>\n",
       "      <td>0</td>\n",
       "    </tr>\n",
       "    <tr>\n",
       "      <th>1</th>\n",
       "      <td>0</td>\n",
       "      <td>'C352968107'</td>\n",
       "      <td>'2'</td>\n",
       "      <td>'M'</td>\n",
       "      <td>'28007'</td>\n",
       "      <td>'M348934600'</td>\n",
       "      <td>'28007'</td>\n",
       "      <td>'es_transportation'</td>\n",
       "      <td>39.68</td>\n",
       "      <td>0</td>\n",
       "    </tr>\n",
       "    <tr>\n",
       "      <th>2</th>\n",
       "      <td>0</td>\n",
       "      <td>'C2054744914'</td>\n",
       "      <td>'4'</td>\n",
       "      <td>'F'</td>\n",
       "      <td>'28007'</td>\n",
       "      <td>'M1823072687'</td>\n",
       "      <td>'28007'</td>\n",
       "      <td>'es_transportation'</td>\n",
       "      <td>26.89</td>\n",
       "      <td>0</td>\n",
       "    </tr>\n",
       "    <tr>\n",
       "      <th>3</th>\n",
       "      <td>0</td>\n",
       "      <td>'C1760612790'</td>\n",
       "      <td>'3'</td>\n",
       "      <td>'M'</td>\n",
       "      <td>'28007'</td>\n",
       "      <td>'M348934600'</td>\n",
       "      <td>'28007'</td>\n",
       "      <td>'es_transportation'</td>\n",
       "      <td>17.25</td>\n",
       "      <td>0</td>\n",
       "    </tr>\n",
       "    <tr>\n",
       "      <th>4</th>\n",
       "      <td>0</td>\n",
       "      <td>'C757503768'</td>\n",
       "      <td>'5'</td>\n",
       "      <td>'M'</td>\n",
       "      <td>'28007'</td>\n",
       "      <td>'M348934600'</td>\n",
       "      <td>'28007'</td>\n",
       "      <td>'es_transportation'</td>\n",
       "      <td>35.72</td>\n",
       "      <td>0</td>\n",
       "    </tr>\n",
       "  </tbody>\n",
       "</table>\n",
       "</div>"
      ],
      "text/plain": [
       "   step       customer  age gender zipcodeOri       merchant zipMerchant  \\\n",
       "0     0  'C1093826151'  '4'    'M'    '28007'   'M348934600'     '28007'   \n",
       "1     0   'C352968107'  '2'    'M'    '28007'   'M348934600'     '28007'   \n",
       "2     0  'C2054744914'  '4'    'F'    '28007'  'M1823072687'     '28007'   \n",
       "3     0  'C1760612790'  '3'    'M'    '28007'   'M348934600'     '28007'   \n",
       "4     0   'C757503768'  '5'    'M'    '28007'   'M348934600'     '28007'   \n",
       "\n",
       "              category  amount  fraud  \n",
       "0  'es_transportation'    4.55      0  \n",
       "1  'es_transportation'   39.68      0  \n",
       "2  'es_transportation'   26.89      0  \n",
       "3  'es_transportation'   17.25      0  \n",
       "4  'es_transportation'   35.72      0  "
      ]
     },
     "execution_count": 4,
     "metadata": {},
     "output_type": "execute_result"
    }
   ],
   "source": [
    "# display the first five rows of the dataset\n",
    "dataset.head()"
   ]
  },
  {
   "cell_type": "code",
   "execution_count": 5,
   "id": "e75c9764",
   "metadata": {},
   "outputs": [
    {
     "name": "stdout",
     "output_type": "stream",
     "text": [
      "<class 'pandas.core.frame.DataFrame'>\n",
      "\n",
      "RangeIndex: 594643 entries, 0 to 594642\n",
      "\n",
      "Data columns (total 10 columns):\n",
      "\n",
      " #   Column       Non-Null Count   Dtype  \n",
      "\n",
      "---  ------       --------------   -----  \n",
      "\n",
      " 0   step         594643 non-null  int64  \n",
      "\n",
      " 1   customer     594643 non-null  object \n",
      "\n",
      " 2   age          594643 non-null  object \n",
      "\n",
      " 3   gender       594643 non-null  object \n",
      "\n",
      " 4   zipcodeOri   594643 non-null  object \n",
      "\n",
      " 5   merchant     594643 non-null  object \n",
      "\n",
      " 6   zipMerchant  594643 non-null  object \n",
      "\n",
      " 7   category     594643 non-null  object \n",
      "\n",
      " 8   amount       594643 non-null  float64\n",
      "\n",
      " 9   fraud        594643 non-null  int64  \n",
      "\n",
      "dtypes: float64(1), int64(2), object(7)\n",
      "\n",
      "memory usage: 45.4+ MB\n"
     ]
    }
   ],
   "source": [
    "# display the null count and datatype of the features\n",
    "dataset.info()"
   ]
  },
  {
   "cell_type": "markdown",
   "id": "461dd8ef",
   "metadata": {},
   "source": [
    "A quick look at the dataset indicates some intuitional abnormalties, i.e by intuition, the age column is expected to be an integer but the age feature is categorical and having values as low as 2, the entries in the fields are enquoted, zipMerchant and zipcodeOri contain similar values for each record, the other categorical variables seeemed like they contain only one unique value. Hence, there is a need to explore the statistics of the variables. <br><br>"
   ]
  },
  {
   "cell_type": "code",
   "execution_count": 6,
   "id": "368b333a",
   "metadata": {},
   "outputs": [
    {
     "data": {
      "text/html": [
       "<div>\n",
       "<style scoped>\n",
       "    .dataframe tbody tr th:only-of-type {\n",
       "        vertical-align: middle;\n",
       "    }\n",
       "\n",
       "    .dataframe tbody tr th {\n",
       "        vertical-align: top;\n",
       "    }\n",
       "\n",
       "    .dataframe thead th {\n",
       "        text-align: right;\n",
       "    }\n",
       "</style>\n",
       "<table border=\"1\" class=\"dataframe\">\n",
       "  <thead>\n",
       "    <tr style=\"text-align: right;\">\n",
       "      <th></th>\n",
       "      <th>customer</th>\n",
       "      <th>age</th>\n",
       "      <th>gender</th>\n",
       "      <th>zipcodeOri</th>\n",
       "      <th>merchant</th>\n",
       "      <th>zipMerchant</th>\n",
       "      <th>category</th>\n",
       "    </tr>\n",
       "  </thead>\n",
       "  <tbody>\n",
       "    <tr>\n",
       "      <th>count</th>\n",
       "      <td>594643</td>\n",
       "      <td>594643</td>\n",
       "      <td>594643</td>\n",
       "      <td>594643</td>\n",
       "      <td>594643</td>\n",
       "      <td>594643</td>\n",
       "      <td>594643</td>\n",
       "    </tr>\n",
       "    <tr>\n",
       "      <th>unique</th>\n",
       "      <td>4112</td>\n",
       "      <td>8</td>\n",
       "      <td>4</td>\n",
       "      <td>1</td>\n",
       "      <td>50</td>\n",
       "      <td>1</td>\n",
       "      <td>15</td>\n",
       "    </tr>\n",
       "    <tr>\n",
       "      <th>top</th>\n",
       "      <td>'C1978250683'</td>\n",
       "      <td>'2'</td>\n",
       "      <td>'F'</td>\n",
       "      <td>'28007'</td>\n",
       "      <td>'M1823072687'</td>\n",
       "      <td>'28007'</td>\n",
       "      <td>'es_transportation'</td>\n",
       "    </tr>\n",
       "    <tr>\n",
       "      <th>freq</th>\n",
       "      <td>265</td>\n",
       "      <td>187310</td>\n",
       "      <td>324565</td>\n",
       "      <td>594643</td>\n",
       "      <td>299693</td>\n",
       "      <td>594643</td>\n",
       "      <td>505119</td>\n",
       "    </tr>\n",
       "  </tbody>\n",
       "</table>\n",
       "</div>"
      ],
      "text/plain": [
       "             customer     age  gender zipcodeOri       merchant zipMerchant  \\\n",
       "count          594643  594643  594643     594643         594643      594643   \n",
       "unique           4112       8       4          1             50           1   \n",
       "top     'C1978250683'     '2'     'F'    '28007'  'M1823072687'     '28007'   \n",
       "freq              265  187310  324565     594643         299693      594643   \n",
       "\n",
       "                   category  \n",
       "count                594643  \n",
       "unique                   15  \n",
       "top     'es_transportation'  \n",
       "freq                 505119  "
      ]
     },
     "execution_count": 6,
     "metadata": {},
     "output_type": "execute_result"
    }
   ],
   "source": [
    "# get all categorical columns\n",
    "cat_columns = [\n",
    "    column for column in dataset.columns \n",
    "    if dataset[column].dtype == 'object'\n",
    "]  \n",
    "\n",
    "# display statistical properties of categorical features\n",
    "dataset[cat_columns].describe()"
   ]
  },
  {
   "cell_type": "markdown",
   "id": "9dc0c76f",
   "metadata": {},
   "source": [
    "It can be deduced that the dataset was collected considering 50 different merchants within Anston county in North Carolina (28007) and 4112 clients within same location spread across 8 age groups. Although, the zipcodeOri and zipMerchant features do not contain varying values to be usefull in predictive analysis. Hence, both features should be droped. The other categorical features contains considerable number of unique entries<br><br>"
   ]
  },
  {
   "cell_type": "code",
   "execution_count": 7,
   "id": "7137d805",
   "metadata": {},
   "outputs": [
    {
     "data": {
      "text/html": [
       "<div>\n",
       "<style scoped>\n",
       "    .dataframe tbody tr th:only-of-type {\n",
       "        vertical-align: middle;\n",
       "    }\n",
       "\n",
       "    .dataframe tbody tr th {\n",
       "        vertical-align: top;\n",
       "    }\n",
       "\n",
       "    .dataframe thead th {\n",
       "        text-align: right;\n",
       "    }\n",
       "</style>\n",
       "<table border=\"1\" class=\"dataframe\">\n",
       "  <thead>\n",
       "    <tr style=\"text-align: right;\">\n",
       "      <th></th>\n",
       "      <th>step</th>\n",
       "      <th>amount</th>\n",
       "      <th>fraud</th>\n",
       "    </tr>\n",
       "  </thead>\n",
       "  <tbody>\n",
       "    <tr>\n",
       "      <th>count</th>\n",
       "      <td>594643.000000</td>\n",
       "      <td>594643.000000</td>\n",
       "      <td>594643.000000</td>\n",
       "    </tr>\n",
       "    <tr>\n",
       "      <th>mean</th>\n",
       "      <td>94.986827</td>\n",
       "      <td>37.890135</td>\n",
       "      <td>0.012108</td>\n",
       "    </tr>\n",
       "    <tr>\n",
       "      <th>std</th>\n",
       "      <td>51.053632</td>\n",
       "      <td>111.402831</td>\n",
       "      <td>0.109369</td>\n",
       "    </tr>\n",
       "    <tr>\n",
       "      <th>min</th>\n",
       "      <td>0.000000</td>\n",
       "      <td>0.000000</td>\n",
       "      <td>0.000000</td>\n",
       "    </tr>\n",
       "    <tr>\n",
       "      <th>25%</th>\n",
       "      <td>52.000000</td>\n",
       "      <td>13.740000</td>\n",
       "      <td>0.000000</td>\n",
       "    </tr>\n",
       "    <tr>\n",
       "      <th>50%</th>\n",
       "      <td>97.000000</td>\n",
       "      <td>26.900000</td>\n",
       "      <td>0.000000</td>\n",
       "    </tr>\n",
       "    <tr>\n",
       "      <th>75%</th>\n",
       "      <td>139.000000</td>\n",
       "      <td>42.540000</td>\n",
       "      <td>0.000000</td>\n",
       "    </tr>\n",
       "    <tr>\n",
       "      <th>max</th>\n",
       "      <td>179.000000</td>\n",
       "      <td>8329.960000</td>\n",
       "      <td>1.000000</td>\n",
       "    </tr>\n",
       "  </tbody>\n",
       "</table>\n",
       "</div>"
      ],
      "text/plain": [
       "                step         amount          fraud\n",
       "count  594643.000000  594643.000000  594643.000000\n",
       "mean       94.986827      37.890135       0.012108\n",
       "std        51.053632     111.402831       0.109369\n",
       "min         0.000000       0.000000       0.000000\n",
       "25%        52.000000      13.740000       0.000000\n",
       "50%        97.000000      26.900000       0.000000\n",
       "75%       139.000000      42.540000       0.000000\n",
       "max       179.000000    8329.960000       1.000000"
      ]
     },
     "execution_count": 7,
     "metadata": {},
     "output_type": "execute_result"
    }
   ],
   "source": [
    "# get all numerical columns\n",
    "num_columns = [\n",
    "    column for column in dataset.columns \n",
    "    if dataset[column].dtype != 'object'\n",
    "]  \n",
    "\n",
    "# display statistical properties of numerical features\n",
    "dataset[num_columns].describe()"
   ]
  },
  {
   "cell_type": "markdown",
   "id": "1d306c07",
   "metadata": {},
   "source": [
    "The range of amount transacted is the only point of concern in this statistic. What transaction can be carried out with 0 amount. The distance between the 75th percentile and the max is alarming."
   ]
  },
  {
   "cell_type": "markdown",
   "id": "ad5191f0",
   "metadata": {},
   "source": [
    "### 3.1.1 Observations"
   ]
  },
  {
   "cell_type": "markdown",
   "id": "358b8850",
   "metadata": {},
   "source": [
    "* The dataset contains 594,643 rows and 10 features. 7 categorical variables with 3 numericals. It is a fairly huge dataset and might need to be optimised for memory to increase speed.\n",
    "* The zipcodeOri and the zipMerchant contain same value for all transaction. Hence, they will not be very useful for predictive analysis\n",
    "* The dataset does not contain null values. Hence there will be no need for imputation\n",
    "* The dataset was collected from merchants within a specific geographic location (Anston county in North Carolina)\n",
    "* The problem is a dual-class classification problem. The target feature (fraud) contains two classes. 0 and 1"
   ]
  },
  {
   "cell_type": "markdown",
   "id": "1a021453",
   "metadata": {},
   "source": [
    "## 3.2 Distribution of Target Variable\n",
    "\n",
    "Since among the primary objective of the project is to detect fraudulent transactions. It is imperative to explore how the classification tag is distributed to avoid bias."
   ]
  },
  {
   "cell_type": "markdown",
   "id": "de58b531",
   "metadata": {},
   "source": [
    "The pie chart shows that the dataset has a class imbalance. Nearly 99% of all transactions are legitimate. The percentage of fraudulent transactions is very small. This imbalance has the effect of producing a biased model in predictive analysis. It would be incredibly challenging for models trained on this dataset to recognize a fraudulent transaction because they would have been trained on so many non-fraudulent transactions and so few fraudulent ones. The dataset should therefore be balanced before being used for modeling."
   ]
  },
  {
   "cell_type": "markdown",
   "id": "e5c22bc7",
   "metadata": {},
   "source": [
    "## 3.3 Distribution of Categorical Variables"
   ]
  },
  {
   "cell_type": "markdown",
   "id": "c29c6a7b",
   "metadata": {},
   "source": [
    "Two of the dataset's seven categorical variables—zipCodeOri and zipMerchant—were found to be useless. The distribution of the remaining 5 categorical variables is examined in this section."
   ]
  },
  {
   "cell_type": "code",
   "execution_count": 9,
   "id": "7bd7e028",
   "metadata": {},
   "outputs": [
    {
     "data": {
      "image/png": "[encoded data removed]",
      "text/plain": [
       "<Figure size 1080x1800 with 4 Axes>"
      ]
     },
     "metadata": {
      "needs_background": "light"
     },
     "output_type": "display_data"
    }
   ],
   "source": [
    "plt.figure(figsize=(15, 25))\n",
    "\n",
    "# get other categorical columns\n",
    "cat_columns = [\n",
    "    column for column in dataset.columns \n",
    "    if dataset[column].dtype == 'object'\n",
    "    and column not in ['zipcodeOri', 'zipMerchant', 'customer']\n",
    "] \n",
    "\n",
    "# loop through features and plot distribution\n",
    "for i in range(0, len(cat_columns)):\n",
    "    plt.subplot(5, 2, i+1)\n",
    "    sns.countplot(x = cat_columns[i], data=dataset, palette='Blues_d')\n",
    "    plt.title('Distribution of {}'.format(cat_columns[i]), fontsize=20)\n",
    "    plt.xlabel(cat_columns[i], fontsize=16)\n",
    "    plt.ylabel('count', fontsize=16)\n",
    "    plt.xticks(rotation=90)\n",
    "    plt.tight_layout(h_pad=2, w_pad = 2)"
   ]
  },
  {
   "cell_type": "markdown",
   "id": "50da605e",
   "metadata": {},
   "source": [
    "Most of the categorical variables are skewed, with the exception of the customer characteristic, which is almost uniform. For the majority of the fields, some distinct values in each feature occur far more frequently than the rest. This suggests that in order to compare these qualities to the target variable fairly, they must first be scaled relative to their frequency. For example, it makes sense that a store A, which logs 1000 transactions per day, would log more fraud than a store B, which logs 10. To claim that clients of store A are more dishonest is merely unfair. Before drawing such conclusions, the outcome must be compared to the overall frequency of occurrence.<br><br>"
   ]
  },
  {
   "cell_type": "markdown",
   "id": "024fe5c1",
   "metadata": {},
   "source": [
    "## 3.4 Numerical Variables"
   ]
  },
  {
   "cell_type": "markdown",
   "id": "abce9c1d",
   "metadata": {},
   "source": [
    "### 3.4.1 Distribution of Numerical Variables"
   ]
  },
  {
   "cell_type": "code",
   "execution_count": 10,
   "id": "24768af2",
   "metadata": {},
   "outputs": [
    {
     "data": {
      "image/png": "[encoded data removed]",
      "text/plain": [
       "<Figure size 1080x432 with 2 Axes>"
      ]
     },
     "metadata": {
      "needs_background": "light"
     },
     "output_type": "display_data"
    }
   ],
   "source": [
    "plt.figure(figsize = (15,6))\n",
    "plt.suptitle(\"Distribution of Numerical Variables\", fontsize=25)\n",
    "\n",
    "# get all categorical columns\n",
    "num_columns = [\n",
    "    column for column in dataset.columns \n",
    "    if dataset[column].dtype != 'object'\n",
    "    and column != 'fraud'\n",
    "] \n",
    "\n",
    "for i in range(0, len(num_columns)):\n",
    "    plt.subplot(1, 2, i+1)\n",
    "    sns.kdeplot(num_columns[i], data=dataset, shade=True, color='b')\n",
    "    plt.title('Distribution of {}'.format(num_columns[i]), fontsize=20)\n",
    "    plt.xlabel(num_columns[i], fontsize=16)\n",
    "    plt.ylabel('count', fontsize=16)\n",
    "    plt.tight_layout(h_pad=3, w_pad = 2)"
   ]
  },
  {
   "cell_type": "markdown",
   "id": "9a0a8305",
   "metadata": {},
   "source": [
    "The charts above depicts that the total transactions increases as the step increases. The distirbution of the amount feature is heavily skewed to the right with a long tail. This smells of likely outlier."
   ]
  },
  {
   "cell_type": "markdown",
   "id": "d2d321f3",
   "metadata": {},
   "source": [
    "### 3.4.1 Outliers\n",
    "\n",
    "Outliers are extreme values that differ from most other data points in a dataset. They can have a big impact on your statistical analyses and skew the results of any hypothesis tests. It can also lead to models which exagerate or under-predict values. Among the common means of visualizing outliers are usign boxplots."
   ]
  },
  {
   "cell_type": "code",
   "execution_count": 11,
   "id": "d642f550",
   "metadata": {},
   "outputs": [
    {
     "data": {
      "image/png": "[encoded data removed]",
      "text/plain": [
       "<Figure size 1080x432 with 2 Axes>"
      ]
     },
     "metadata": {
      "needs_background": "light"
     },
     "output_type": "display_data"
    }
   ],
   "source": [
    "#display box plot of numerical variables\n",
    "plt.figure(figsize = (15,6))\n",
    "plt.suptitle(\"Box plot of Numerical Variables\", fontsize=25)\n",
    "\n",
    "for i in range(0, len(num_columns)):\n",
    "    plt.subplot(1, 2, i+1)\n",
    "    sns.boxplot(num_columns[i], data=dataset,  color='b')\n",
    "    plt.title('Box plot of {}'.format(num_columns[i]), fontsize=20)\n",
    "    plt.xlabel(num_columns[i], fontsize=16)\n",
    "    plt.ylabel('count', fontsize=16)\n",
    "    plt.tight_layout(h_pad=3, w_pad = 2)"
   ]
  },
  {
   "cell_type": "markdown",
   "id": "391a8ca3",
   "metadata": {},
   "source": [
    "The box plots show that there are no outliers in the step feature. The presence of data points that can be categorized as outliers is clearly shown by the box plot for amount. Although the act of detecting fraud is itself an attempt to identify anomalies. It follows that those values exist and that they may be of great use. Hence, it is advisable to leave them  as they are."
   ]
  },
  {
   "cell_type": "markdown",
   "id": "8025ec01",
   "metadata": {},
   "source": [
    "## 3.5 Analysis of Fraudulent transactions \n",
    "\n",
    "This section aims to investigate how each attribute of the predictor variables affects the target variables. Do they contain tendencies that will help determine if transactions are fraudulent or not?"
   ]
  },
  {
   "cell_type": "code",
   "execution_count": 4,
   "id": "fa029ac6",
   "metadata": {},
   "outputs": [
    {
     "data": {
      "text/plain": [
       "(7200, 10)"
      ]
     },
     "execution_count": 4,
     "metadata": {},
     "output_type": "execute_result"
    }
   ],
   "source": [
    "# filter out the fraudulent transactions\n",
    "fraudulent_df = dataset[dataset['fraud'] == 1]\n",
    "\n",
    "# total number of faudulent transactions\n",
    "fraudulent_df.shape"
   ]
  },
  {
   "cell_type": "code",
   "execution_count": 13,
   "id": "8570fa9d",
   "metadata": {},
   "outputs": [],
   "source": [
    "def ask_fraudulent(feature, sort_value):\n",
    "    '''\n",
    "        Returns a dataframe which is grouped by *feature*. The dataframe contains\n",
    "        the count of fraudulent transaction, total transaction and the probability of\n",
    "        of a new entry having such feature being fraudulent and the total loss caused.\n",
    "        \n",
    "        Parameter\n",
    "        feature : string - The feature on which the dataset is grouped and aggregated\n",
    "        sort_value : string - The feature on which the dataset is sorted\n",
    "    '''\n",
    "    # get a list of unique entries\n",
    "    fraud_cols = list(fraudulent_df[feature].unique()) \n",
    "    \n",
    "    # count fraudulent transanctions by requested feature\n",
    "    count_frauds = fraudulent_df[feature].value_counts() \n",
    "\n",
    "    # Count all transaction (both fraudulent and non fraudulent) for requested feature\n",
    "    all_trans = dataset[dataset[feature].isin(fraud_cols)]\n",
    "    count_all_trans = all_trans[feature].value_counts()\n",
    "    \n",
    "    # total amount loss from transactions\n",
    "    total_loss = fraudulent_df.groupby(feature).sum()['amount'] \n",
    "\n",
    "    # ratio of fraudulent transaction against total transaction by requsted feature\n",
    "    most_fraudulent = (count_frauds / count_all_trans).sort_values(ascending=False)\n",
    "\n",
    "    # create table \n",
    "    table = pd.concat([count_frauds, count_all_trans, most_fraudulent, total_loss], axis='columns')\n",
    "    table.columns = ['Fraudulent Transactions', 'Total Transaction', 'Possibility of Fraud', 'Amount lost']\n",
    "    return table.sort_values(by=sort_value, ascending=False)"
   ]
  },
  {
   "cell_type": "markdown",
   "id": "9e224445",
   "metadata": {},
   "source": [
    "### 3.5.1 What is the cost Implication of Fraudulent Transactions"
   ]
  },
  {
   "cell_type": "code",
   "execution_count": 14,
   "id": "757a11f5",
   "metadata": {},
   "outputs": [
    {
     "name": "stdout",
     "output_type": "stream",
     "text": [
      "The total amount transacted is 22531103.730000004\n",
      "\n",
      "The total amount of frauds is 3822671.1700000004\n"
     ]
    }
   ],
   "source": [
    "# total cost of fraudulent transactions\n",
    "fraud_total = fraudulent_df['amount'].sum()\n",
    "\n",
    "# total cost of non-fraudulent transactions\n",
    "total_cost = dataset['amount'].sum() \n",
    "non_fraud_total = total_cost - fraud_total\n",
    "\n",
    "print(\"The total amount transacted is {}\".format(total_cost))\n",
    "print(\"The total amount of frauds is {}\".format(fraud_total))"
   ]
  },
  {
   "cell_type": "code",
   "execution_count": 15,
   "id": "7272e361",
   "metadata": {},
   "outputs": [
    {
     "data": {
      "image/png": "[encoded data removed]",
      "text/plain": [
       "<Figure size 720x576 with 1 Axes>"
      ]
     },
     "metadata": {},
     "output_type": "display_data"
    }
   ],
   "source": [
    "# display pie chart of Amount lost\n",
    "fig, ax = plt.subplots(figsize = (10, 8))\n",
    "values = [ non_fraud_total, fraud_total]\n",
    "labels = ['Non-Fraudulent', 'Fraudulent']\n",
    "\n",
    "# create pie chart using matplotlib\n",
    "plt.pie(values, labels=labels, colors=['green', 'red'],\n",
    "        autopct='%.0f%%', explode=[0, 0.2], shadow=False, rotatelabels=True, \n",
    "        textprops={'fontsize': 14, 'color': 'black'},\n",
    "        pctdistance = 0.7,\n",
    "        startangle=30\n",
    "       )\n",
    "plt.show()"
   ]
  },
  {
   "cell_type": "markdown",
   "id": "2137004f",
   "metadata": {},
   "source": [
    "Fraudulent transactions costs the bank more than three million dollars. Losing 17% of a total banks transaction is a huge loss."
   ]
  },
  {
   "cell_type": "markdown",
   "id": "267ecf41",
   "metadata": {},
   "source": [
    "### 3.5.2 Which Merchant has the highest rate of involvement in Fraudulent Transactions"
   ]
  },
  {
   "cell_type": "code",
   "execution_count": 40,
   "id": "54c2a927",
   "metadata": {},
   "outputs": [
    {
     "data": {
      "text/html": [
       "<div>\n",
       "<style scoped>\n",
       "    .dataframe tbody tr th:only-of-type {\n",
       "        vertical-align: middle;\n",
       "    }\n",
       "\n",
       "    .dataframe tbody tr th {\n",
       "        vertical-align: top;\n",
       "    }\n",
       "\n",
       "    .dataframe thead th {\n",
       "        text-align: right;\n",
       "    }\n",
       "</style>\n",
       "<table border=\"1\" class=\"dataframe\">\n",
       "  <thead>\n",
       "    <tr style=\"text-align: right;\">\n",
       "      <th></th>\n",
       "      <th>Fraudulent Transactions</th>\n",
       "      <th>Total Transaction</th>\n",
       "      <th>Possibility of Fraud</th>\n",
       "      <th>Amount lost</th>\n",
       "    </tr>\n",
       "  </thead>\n",
       "  <tbody>\n",
       "    <tr>\n",
       "      <th>'M1294758098'</th>\n",
       "      <td>184</td>\n",
       "      <td>191</td>\n",
       "      <td>0.963351</td>\n",
       "      <td>54808.34</td>\n",
       "    </tr>\n",
       "    <tr>\n",
       "      <th>'M3697346'</th>\n",
       "      <td>290</td>\n",
       "      <td>308</td>\n",
       "      <td>0.941558</td>\n",
       "      <td>87527.64</td>\n",
       "    </tr>\n",
       "    <tr>\n",
       "      <th>'M1873032707'</th>\n",
       "      <td>216</td>\n",
       "      <td>250</td>\n",
       "      <td>0.864000</td>\n",
       "      <td>90653.68</td>\n",
       "    </tr>\n",
       "    <tr>\n",
       "      <th>'M732195782'</th>\n",
       "      <td>518</td>\n",
       "      <td>608</td>\n",
       "      <td>0.851974</td>\n",
       "      <td>1350979.31</td>\n",
       "    </tr>\n",
       "    <tr>\n",
       "      <th>'M980657600'</th>\n",
       "      <td>1472</td>\n",
       "      <td>1769</td>\n",
       "      <td>0.832109</td>\n",
       "      <td>505311.62</td>\n",
       "    </tr>\n",
       "  </tbody>\n",
       "</table>\n",
       "</div>"
      ],
      "text/plain": [
       "               Fraudulent Transactions  Total Transaction  \\\n",
       "'M1294758098'                      184                191   \n",
       "'M3697346'                         290                308   \n",
       "'M1873032707'                      216                250   \n",
       "'M732195782'                       518                608   \n",
       "'M980657600'                      1472               1769   \n",
       "\n",
       "               Possibility of Fraud  Amount lost  \n",
       "'M1294758098'              0.963351     54808.34  \n",
       "'M3697346'                 0.941558     87527.64  \n",
       "'M1873032707'              0.864000     90653.68  \n",
       "'M732195782'               0.851974   1350979.31  \n",
       "'M980657600'               0.832109    505311.62  "
      ]
     },
     "execution_count": 40,
     "metadata": {},
     "output_type": "execute_result"
    }
   ],
   "source": [
    "# get table of merchants who have processed fraudulent transactions\n",
    "fraud_merchant = ask_fraudulent('merchant', 'Possibility of Fraud')\n",
    "fraud_merchant.head()"
   ]
  },
  {
   "cell_type": "code",
   "execution_count": 17,
   "id": "b20e52b1",
   "metadata": {},
   "outputs": [
    {
     "data": {
      "image/png": "[encoded data removed]",
      "text/plain": [
       "<Figure size 1080x576 with 1 Axes>"
      ]
     },
     "metadata": {
      "needs_background": "light"
     },
     "output_type": "display_data"
    }
   ],
   "source": [
    "# plot the visual\n",
    "fig, ax = plt.subplots(figsize = (15, 8))\n",
    "sns.barplot(x=fraud_merchant['Possibility of Fraud'], \n",
    "            y=fraud_merchant.index, \n",
    "            ax=ax)\n",
    "plt.title('Merchants with Highest Possibility of Involvement in fraud', fontsize=20)\n",
    "plt.ylabel(\"Merchant\")\n",
    "plt.show()"
   ]
  },
  {
   "cell_type": "markdown",
   "id": "964626a6",
   "metadata": {},
   "source": [
    "As much as 90% or more of the total transactions made by some merchants are fraudulent. It would be safe to put such sellers on a blacklist because this is very suspicious. Although having the greatest possibility of fraud or the greatest amount of fraud does not always equate to causing the greatest loss. It is necessary to look into which merchants are involved in the processing of the largest cumulative loss."
   ]
  },
  {
   "cell_type": "markdown",
   "id": "92dcbb25",
   "metadata": {},
   "source": [
    "### 3.5.3 Which Merchants has cost the bank's highest total loss due to fraudulent transaction"
   ]
  },
  {
   "cell_type": "code",
   "execution_count": 18,
   "id": "2d642cea",
   "metadata": {},
   "outputs": [
    {
     "data": {
      "text/html": [
       "<div>\n",
       "<style scoped>\n",
       "    .dataframe tbody tr th:only-of-type {\n",
       "        vertical-align: middle;\n",
       "    }\n",
       "\n",
       "    .dataframe tbody tr th {\n",
       "        vertical-align: top;\n",
       "    }\n",
       "\n",
       "    .dataframe thead th {\n",
       "        text-align: right;\n",
       "    }\n",
       "</style>\n",
       "<table border=\"1\" class=\"dataframe\">\n",
       "  <thead>\n",
       "    <tr style=\"text-align: right;\">\n",
       "      <th></th>\n",
       "      <th>Fraudulent Transactions</th>\n",
       "      <th>Total Transaction</th>\n",
       "      <th>Possibility of Fraud</th>\n",
       "      <th>Amount lost</th>\n",
       "    </tr>\n",
       "  </thead>\n",
       "  <tbody>\n",
       "    <tr>\n",
       "      <th>'M732195782'</th>\n",
       "      <td>518</td>\n",
       "      <td>608</td>\n",
       "      <td>0.851974</td>\n",
       "      <td>1350979.31</td>\n",
       "    </tr>\n",
       "    <tr>\n",
       "      <th>'M480139044'</th>\n",
       "      <td>1634</td>\n",
       "      <td>3508</td>\n",
       "      <td>0.465792</td>\n",
       "      <td>664804.39</td>\n",
       "    </tr>\n",
       "    <tr>\n",
       "      <th>'M980657600'</th>\n",
       "      <td>1472</td>\n",
       "      <td>1769</td>\n",
       "      <td>0.832109</td>\n",
       "      <td>505311.62</td>\n",
       "    </tr>\n",
       "    <tr>\n",
       "      <th>'M2080407379'</th>\n",
       "      <td>36</td>\n",
       "      <td>48</td>\n",
       "      <td>0.750000</td>\n",
       "      <td>103583.41</td>\n",
       "    </tr>\n",
       "    <tr>\n",
       "      <th>'M2122776122'</th>\n",
       "      <td>200</td>\n",
       "      <td>341</td>\n",
       "      <td>0.586510</td>\n",
       "      <td>93889.68</td>\n",
       "    </tr>\n",
       "  </tbody>\n",
       "</table>\n",
       "</div>"
      ],
      "text/plain": [
       "               Fraudulent Transactions  Total Transaction  \\\n",
       "'M732195782'                       518                608   \n",
       "'M480139044'                      1634               3508   \n",
       "'M980657600'                      1472               1769   \n",
       "'M2080407379'                       36                 48   \n",
       "'M2122776122'                      200                341   \n",
       "\n",
       "               Possibility of Fraud  Amount lost  \n",
       "'M732195782'               0.851974   1350979.31  \n",
       "'M480139044'               0.465792    664804.39  \n",
       "'M980657600'               0.832109    505311.62  \n",
       "'M2080407379'              0.750000    103583.41  \n",
       "'M2122776122'              0.586510     93889.68  "
      ]
     },
     "execution_count": 18,
     "metadata": {},
     "output_type": "execute_result"
    }
   ],
   "source": [
    "# get table of merchants who have processed fraudulent transactions sort by amount lost\n",
    "fraud_merchant = ask_fraudulent('merchant', 'Amount lost')\n",
    "fraud_merchant.head()"
   ]
  },
  {
   "cell_type": "code",
   "execution_count": 19,
   "id": "02f94a33",
   "metadata": {},
   "outputs": [
    {
     "data": {
      "image/png": "[encoded data removed]",
      "text/plain": [
       "<Figure size 1080x576 with 1 Axes>"
      ]
     },
     "metadata": {
      "needs_background": "light"
     },
     "output_type": "display_data"
    }
   ],
   "source": [
    "# plot the visual\n",
    "fig, ax = plt.subplots(figsize = (15, 8))\n",
    "sns.barplot(y=fraud_merchant['Amount lost'], \n",
    "            x=fraud_merchant.index, \n",
    "            ax=ax, palette=\"flare\")\n",
    "plt.title('Merchants with Highest cummulative fraud amount', fontsize=20)\n",
    "plt.ylabel(\"Merchant\")\n",
    "plt.xticks(rotation=90)\n",
    "plt.show()"
   ]
  },
  {
   "cell_type": "markdown",
   "id": "77133f29",
   "metadata": {},
   "source": [
    "The first three merchants have cost the bank more than half of the total fraud amount. These clients were among the highest involvers in fraud transactions. Hence, blacklisting these merchants will help save a whole lot of morney."
   ]
  },
  {
   "cell_type": "markdown",
   "id": "ede4c345",
   "metadata": {},
   "source": [
    "### 3.5.4 Who are the most fraudulent customers"
   ]
  },
  {
   "cell_type": "code",
   "execution_count": 20,
   "id": "1ef56e6f",
   "metadata": {},
   "outputs": [
    {
     "data": {
      "text/html": [
       "<div>\n",
       "<style scoped>\n",
       "    .dataframe tbody tr th:only-of-type {\n",
       "        vertical-align: middle;\n",
       "    }\n",
       "\n",
       "    .dataframe tbody tr th {\n",
       "        vertical-align: top;\n",
       "    }\n",
       "\n",
       "    .dataframe thead th {\n",
       "        text-align: right;\n",
       "    }\n",
       "</style>\n",
       "<table border=\"1\" class=\"dataframe\">\n",
       "  <thead>\n",
       "    <tr style=\"text-align: right;\">\n",
       "      <th></th>\n",
       "      <th>Fraudulent Transactions</th>\n",
       "      <th>Total Transaction</th>\n",
       "      <th>Possibility of Fraud</th>\n",
       "      <th>Amount lost</th>\n",
       "    </tr>\n",
       "  </thead>\n",
       "  <tbody>\n",
       "    <tr>\n",
       "      <th>'C910454738'</th>\n",
       "      <td>87</td>\n",
       "      <td>92</td>\n",
       "      <td>0.945652</td>\n",
       "      <td>37143.84</td>\n",
       "    </tr>\n",
       "    <tr>\n",
       "      <th>'C2004941826'</th>\n",
       "      <td>119</td>\n",
       "      <td>126</td>\n",
       "      <td>0.944444</td>\n",
       "      <td>64165.54</td>\n",
       "    </tr>\n",
       "    <tr>\n",
       "      <th>'C381007057'</th>\n",
       "      <td>89</td>\n",
       "      <td>100</td>\n",
       "      <td>0.890000</td>\n",
       "      <td>50245.22</td>\n",
       "    </tr>\n",
       "    <tr>\n",
       "      <th>'C1572610482'</th>\n",
       "      <td>89</td>\n",
       "      <td>101</td>\n",
       "      <td>0.881188</td>\n",
       "      <td>58203.13</td>\n",
       "    </tr>\n",
       "    <tr>\n",
       "      <th>'C617723960'</th>\n",
       "      <td>40</td>\n",
       "      <td>46</td>\n",
       "      <td>0.869565</td>\n",
       "      <td>23443.52</td>\n",
       "    </tr>\n",
       "  </tbody>\n",
       "</table>\n",
       "</div>"
      ],
      "text/plain": [
       "               Fraudulent Transactions  Total Transaction  \\\n",
       "'C910454738'                        87                 92   \n",
       "'C2004941826'                      119                126   \n",
       "'C381007057'                        89                100   \n",
       "'C1572610482'                       89                101   \n",
       "'C617723960'                        40                 46   \n",
       "\n",
       "               Possibility of Fraud  Amount lost  \n",
       "'C910454738'               0.945652     37143.84  \n",
       "'C2004941826'              0.944444     64165.54  \n",
       "'C381007057'               0.890000     50245.22  \n",
       "'C1572610482'              0.881188     58203.13  \n",
       "'C617723960'               0.869565     23443.52  "
      ]
     },
     "execution_count": 20,
     "metadata": {},
     "output_type": "execute_result"
    }
   ],
   "source": [
    "# get table of customers whose accounts have processed fraudulent transactions\n",
    "fraud_cust = ask_fraudulent('customer', 'Possibility of Fraud')\n",
    "fraud_cust.head()"
   ]
  },
  {
   "cell_type": "code",
   "execution_count": 21,
   "id": "26a27369",
   "metadata": {},
   "outputs": [
    {
     "data": {
      "image/png": "[encoded data removed]",
      "text/plain": [
       "<Figure size 1080x576 with 1 Axes>"
      ]
     },
     "metadata": {
      "needs_background": "light"
     },
     "output_type": "display_data"
    }
   ],
   "source": [
    "# plot the visual of the top 20 most fraudulent customers\n",
    "fig, ax = plt.subplots(figsize = (15, 8))\n",
    "sns.barplot(x=fraud_cust.head(20)['Possibility of Fraud'],\n",
    "            y=fraud_cust.head(20).index, \n",
    "            ax=ax)\n",
    "plt.title('Top 20 Customers with the highest possibility of fraud', fontsize=20)\n",
    "plt.ylabel(\"Customer\")\n",
    "plt.show()"
   ]
  },
  {
   "cell_type": "markdown",
   "id": "0b68d8f5",
   "metadata": {},
   "source": [
    "Similar to Merchants, some customers have about 90% of their total transactions being fraudulent. How much does these customers cost the bank "
   ]
  },
  {
   "cell_type": "markdown",
   "id": "483ea8c0",
   "metadata": {},
   "source": [
    "### 3.5.4 Which Customers have caused the bank the most loss"
   ]
  },
  {
   "cell_type": "code",
   "execution_count": 22,
   "id": "b247e94f",
   "metadata": {},
   "outputs": [
    {
     "data": {
      "text/html": [
       "<div>\n",
       "<style scoped>\n",
       "    .dataframe tbody tr th:only-of-type {\n",
       "        vertical-align: middle;\n",
       "    }\n",
       "\n",
       "    .dataframe tbody tr th {\n",
       "        vertical-align: top;\n",
       "    }\n",
       "\n",
       "    .dataframe thead th {\n",
       "        text-align: right;\n",
       "    }\n",
       "</style>\n",
       "<table border=\"1\" class=\"dataframe\">\n",
       "  <thead>\n",
       "    <tr style=\"text-align: right;\">\n",
       "      <th></th>\n",
       "      <th>Fraudulent Transactions</th>\n",
       "      <th>Total Transaction</th>\n",
       "      <th>Possibility of Fraud</th>\n",
       "      <th>Amount lost</th>\n",
       "    </tr>\n",
       "  </thead>\n",
       "  <tbody>\n",
       "    <tr>\n",
       "      <th>'C806399525'</th>\n",
       "      <td>125</td>\n",
       "      <td>237</td>\n",
       "      <td>0.527426</td>\n",
       "      <td>80324.04</td>\n",
       "    </tr>\n",
       "    <tr>\n",
       "      <th>'C2004941826'</th>\n",
       "      <td>119</td>\n",
       "      <td>126</td>\n",
       "      <td>0.944444</td>\n",
       "      <td>64165.54</td>\n",
       "    </tr>\n",
       "    <tr>\n",
       "      <th>'C1849046345'</th>\n",
       "      <td>127</td>\n",
       "      <td>171</td>\n",
       "      <td>0.742690</td>\n",
       "      <td>59066.72</td>\n",
       "    </tr>\n",
       "    <tr>\n",
       "      <th>'C1572610482'</th>\n",
       "      <td>89</td>\n",
       "      <td>101</td>\n",
       "      <td>0.881188</td>\n",
       "      <td>58203.13</td>\n",
       "    </tr>\n",
       "    <tr>\n",
       "      <th>'C1350963410'</th>\n",
       "      <td>144</td>\n",
       "      <td>191</td>\n",
       "      <td>0.753927</td>\n",
       "      <td>54274.78</td>\n",
       "    </tr>\n",
       "  </tbody>\n",
       "</table>\n",
       "</div>"
      ],
      "text/plain": [
       "               Fraudulent Transactions  Total Transaction  \\\n",
       "'C806399525'                       125                237   \n",
       "'C2004941826'                      119                126   \n",
       "'C1849046345'                      127                171   \n",
       "'C1572610482'                       89                101   \n",
       "'C1350963410'                      144                191   \n",
       "\n",
       "               Possibility of Fraud  Amount lost  \n",
       "'C806399525'               0.527426     80324.04  \n",
       "'C2004941826'              0.944444     64165.54  \n",
       "'C1849046345'              0.742690     59066.72  \n",
       "'C1572610482'              0.881188     58203.13  \n",
       "'C1350963410'              0.753927     54274.78  "
      ]
     },
     "execution_count": 22,
     "metadata": {},
     "output_type": "execute_result"
    }
   ],
   "source": [
    "# get table of customers who have caused the bank loss ordered by the amout \n",
    "fraud_merchant = ask_fraudulent('customer', 'Amount lost')\n",
    "fraud_merchant.head()"
   ]
  },
  {
   "cell_type": "code",
   "execution_count": 23,
   "id": "420b8a72",
   "metadata": {},
   "outputs": [
    {
     "data": {
      "image/png": "[encoded data removed]",
      "text/plain": [
       "<Figure size 1080x576 with 1 Axes>"
      ]
     },
     "metadata": {
      "needs_background": "light"
     },
     "output_type": "display_data"
    }
   ],
   "source": [
    "# plot the visual\n",
    "fig, ax = plt.subplots(figsize = (15, 8))\n",
    "sns.barplot(y=fraud_merchant.head(70)['Amount lost'], \n",
    "            x=fraud_merchant.head(70).index, \n",
    "            ax=ax, palette=\"flare\")\n",
    "plt.title('Customers with the highest cummulative fraud amount', fontsize=20)\n",
    "plt.ylabel(\"Merchant\")\n",
    "plt.xticks(rotation=90)\n",
    "plt.show()"
   ]
  },
  {
   "cell_type": "markdown",
   "id": "b611fbc7",
   "metadata": {},
   "source": [
    "The customer causing the highest loss has only about 50% of their transactions being fraudulent. Hence, the most damages arent necessarily caused by the most attacking client."
   ]
  },
  {
   "cell_type": "markdown",
   "id": "41800e3c",
   "metadata": {},
   "source": [
    "### 3.5.4 Which gender profile is the most fraudulent"
   ]
  },
  {
   "cell_type": "code",
   "execution_count": 24,
   "id": "37fb7cec",
   "metadata": {},
   "outputs": [
    {
     "data": {
      "text/html": [
       "<div>\n",
       "<style scoped>\n",
       "    .dataframe tbody tr th:only-of-type {\n",
       "        vertical-align: middle;\n",
       "    }\n",
       "\n",
       "    .dataframe tbody tr th {\n",
       "        vertical-align: top;\n",
       "    }\n",
       "\n",
       "    .dataframe thead th {\n",
       "        text-align: right;\n",
       "    }\n",
       "</style>\n",
       "<table border=\"1\" class=\"dataframe\">\n",
       "  <thead>\n",
       "    <tr style=\"text-align: right;\">\n",
       "      <th></th>\n",
       "      <th>Fraudulent Transactions</th>\n",
       "      <th>Total Transaction</th>\n",
       "      <th>Possibility of Fraud</th>\n",
       "      <th>Amount lost</th>\n",
       "    </tr>\n",
       "  </thead>\n",
       "  <tbody>\n",
       "    <tr>\n",
       "      <th>'F'</th>\n",
       "      <td>4758</td>\n",
       "      <td>324565</td>\n",
       "      <td>0.014660</td>\n",
       "      <td>2503555.82</td>\n",
       "    </tr>\n",
       "    <tr>\n",
       "      <th>'M'</th>\n",
       "      <td>2435</td>\n",
       "      <td>268385</td>\n",
       "      <td>0.009073</td>\n",
       "      <td>1315801.14</td>\n",
       "    </tr>\n",
       "    <tr>\n",
       "      <th>'E'</th>\n",
       "      <td>7</td>\n",
       "      <td>1178</td>\n",
       "      <td>0.005942</td>\n",
       "      <td>3314.21</td>\n",
       "    </tr>\n",
       "  </tbody>\n",
       "</table>\n",
       "</div>"
      ],
      "text/plain": [
       "     Fraudulent Transactions  Total Transaction  Possibility of Fraud  \\\n",
       "'F'                     4758             324565              0.014660   \n",
       "'M'                     2435             268385              0.009073   \n",
       "'E'                        7               1178              0.005942   \n",
       "\n",
       "     Amount lost  \n",
       "'F'   2503555.82  \n",
       "'M'   1315801.14  \n",
       "'E'      3314.21  "
      ]
     },
     "execution_count": 24,
     "metadata": {},
     "output_type": "execute_result"
    }
   ],
   "source": [
    "# get table of gender who have processed fraudulent transactions\n",
    "fraud_merchant = ask_fraudulent('gender', 'Possibility of Fraud')\n",
    "fraud_merchant.head()"
   ]
  },
  {
   "cell_type": "code",
   "execution_count": 25,
   "id": "700e373d",
   "metadata": {},
   "outputs": [
    {
     "data": {
      "image/png": "[encoded data removed]",
      "text/plain": [
       "<Figure size 1080x576 with 2 Axes>"
      ]
     },
     "metadata": {
      "needs_background": "light"
     },
     "output_type": "display_data"
    }
   ],
   "source": [
    "plt.figure(figsize=(15, 8))\n",
    "\n",
    "plt.subplot(1, 2, 1)\n",
    "values = fraud_merchant['Amount lost']\n",
    "explode = [0.02, 0.02, 0.02]\n",
    "labels = fraud_merchant.index\n",
    "\n",
    "# create pie chart using matplotlib\n",
    "plt.pie(values, labels=labels, colors=['red', 'blue', 'green'],\n",
    "        autopct='%.2f%%', explode=explode, shadow=True, rotatelabels='False', \n",
    "        textprops={'fontsize': 14, 'color': 'black'},\n",
    "        pctdistance = 0.5,\n",
    "       )\n",
    "plt.title('Fraud Amount by Gender', fontsize=18)\n",
    "plt.tight_layout(h_pad=2, w_pad = 2)\n",
    "\n",
    "\n",
    "plt.subplot(1, 2, 2)\n",
    "# create bar chart using matplotlib\n",
    "sns.barplot(x=fraud_merchant.index, \n",
    "            y= fraud_merchant['Possibility of Fraud']\n",
    "       )\n",
    "plt.title('Probability of Fraud by Gender', fontsize=18)\n",
    "plt.tight_layout(h_pad=2, w_pad = 4)"
   ]
  },
  {
   "cell_type": "markdown",
   "id": "ef928194",
   "metadata": {},
   "source": [
    "The female client is most likely to perform fraudulent transaction. For every two transaction by a female customer, one is a fraud. Similarly, the female is responsible for 65.49% of the total loss incured by the bank due to fraudulent transactions. This is almost twice as much as the male gender. The E (unknown) gender also has high likelihood of fraud but has cause very little damage in terms of amount loss."
   ]
  },
  {
   "cell_type": "markdown",
   "id": "7921335c",
   "metadata": {},
   "source": [
    "### 3.5.6 What transaction categories are most fraudulent"
   ]
  },
  {
   "cell_type": "code",
   "execution_count": 26,
   "id": "74c79cb8",
   "metadata": {},
   "outputs": [
    {
     "data": {
      "text/html": [
       "<div>\n",
       "<style scoped>\n",
       "    .dataframe tbody tr th:only-of-type {\n",
       "        vertical-align: middle;\n",
       "    }\n",
       "\n",
       "    .dataframe tbody tr th {\n",
       "        vertical-align: top;\n",
       "    }\n",
       "\n",
       "    .dataframe thead th {\n",
       "        text-align: right;\n",
       "    }\n",
       "</style>\n",
       "<table border=\"1\" class=\"dataframe\">\n",
       "  <thead>\n",
       "    <tr style=\"text-align: right;\">\n",
       "      <th></th>\n",
       "      <th>Fraudulent Transactions</th>\n",
       "      <th>Total Transaction</th>\n",
       "      <th>Possibility of Fraud</th>\n",
       "      <th>Amount lost</th>\n",
       "    </tr>\n",
       "  </thead>\n",
       "  <tbody>\n",
       "    <tr>\n",
       "      <th>'es_leisure'</th>\n",
       "      <td>474</td>\n",
       "      <td>499</td>\n",
       "      <td>0.949900</td>\n",
       "      <td>142335.98</td>\n",
       "    </tr>\n",
       "    <tr>\n",
       "      <th>'es_travel'</th>\n",
       "      <td>578</td>\n",
       "      <td>728</td>\n",
       "      <td>0.793956</td>\n",
       "      <td>1537944.06</td>\n",
       "    </tr>\n",
       "    <tr>\n",
       "      <th>'es_sportsandtoys'</th>\n",
       "      <td>1982</td>\n",
       "      <td>4002</td>\n",
       "      <td>0.495252</td>\n",
       "      <td>684517.02</td>\n",
       "    </tr>\n",
       "    <tr>\n",
       "      <th>'es_hotelservices'</th>\n",
       "      <td>548</td>\n",
       "      <td>1744</td>\n",
       "      <td>0.314220</td>\n",
       "      <td>231159.19</td>\n",
       "    </tr>\n",
       "    <tr>\n",
       "      <th>'es_otherservices'</th>\n",
       "      <td>228</td>\n",
       "      <td>912</td>\n",
       "      <td>0.250000</td>\n",
       "      <td>72155.07</td>\n",
       "    </tr>\n",
       "  </tbody>\n",
       "</table>\n",
       "</div>"
      ],
      "text/plain": [
       "                    Fraudulent Transactions  Total Transaction  \\\n",
       "'es_leisure'                            474                499   \n",
       "'es_travel'                             578                728   \n",
       "'es_sportsandtoys'                     1982               4002   \n",
       "'es_hotelservices'                      548               1744   \n",
       "'es_otherservices'                      228                912   \n",
       "\n",
       "                    Possibility of Fraud  Amount lost  \n",
       "'es_leisure'                    0.949900    142335.98  \n",
       "'es_travel'                     0.793956   1537944.06  \n",
       "'es_sportsandtoys'              0.495252    684517.02  \n",
       "'es_hotelservices'              0.314220    231159.19  \n",
       "'es_otherservices'              0.250000     72155.07  "
      ]
     },
     "execution_count": 26,
     "metadata": {},
     "output_type": "execute_result"
    }
   ],
   "source": [
    "# get table of gender who have processed fraudulent transactions\n",
    "fraud_merchant = ask_fraudulent('category', 'Possibility of Fraud')\n",
    "fraud_merchant.head()"
   ]
  },
  {
   "cell_type": "code",
   "execution_count": 27,
   "id": "15f79254",
   "metadata": {},
   "outputs": [
    {
     "data": {
      "image/png": "[encoded data removed]",
      "text/plain": [
       "<Figure size 1080x576 with 1 Axes>"
      ]
     },
     "metadata": {
      "needs_background": "light"
     },
     "output_type": "display_data"
    },
    {
     "data": {
      "image/png": "[encoded data removed]",
      "text/plain": [
       "<Figure size 1080x576 with 1 Axes>"
      ]
     },
     "metadata": {
      "needs_background": "light"
     },
     "output_type": "display_data"
    }
   ],
   "source": [
    "# plot the visual of the most fraudulent categories\n",
    "fig, ax = plt.subplots(figsize = (15, 8))\n",
    "sns.barplot(x=fraud_merchant['Possibility of Fraud'],\n",
    "            y=fraud_merchant.index, \n",
    "            ax=ax)\n",
    "plt.title('Most Fraudulent Transaction Categories', fontsize=20)\n",
    "plt.ylabel(\"Customer\")\n",
    "plt.show()\n",
    "\n",
    "# Plot boxplots for the categories and the fraud amount each cost\n",
    "plt.figure(figsize=(15, 8))\n",
    "sns.boxplot(x=fraudulent_df['category'], y=fraudulent_df['amount'])\n",
    "plt.title(\"Fraud Amount in Each Category\")\n",
    "plt.xticks(rotation=90)\n",
    "plt.show()"
   ]
  },
  {
   "cell_type": "markdown",
   "id": "7fa49849",
   "metadata": {},
   "source": [
    "Most transaction classified within the fun domain like leisure, travel, sports and toy are mostly high flags for fraud. More than 94% of transactions categorized as leisure are fraudulent. Small number of transactions are carried out using the tag, but most of those transactions are fraudulent. The bank might want to consider double checking transactions categorized as fun."
   ]
  },
  {
   "cell_type": "markdown",
   "id": "2d084c79",
   "metadata": {},
   "source": [
    "### 3.5.6 What age categories are the most fraudulent"
   ]
  },
  {
   "cell_type": "code",
   "execution_count": 29,
   "id": "076c90c1",
   "metadata": {},
   "outputs": [
    {
     "data": {
      "text/html": [
       "<div>\n",
       "<style scoped>\n",
       "    .dataframe tbody tr th:only-of-type {\n",
       "        vertical-align: middle;\n",
       "    }\n",
       "\n",
       "    .dataframe tbody tr th {\n",
       "        vertical-align: top;\n",
       "    }\n",
       "\n",
       "    .dataframe thead th {\n",
       "        text-align: right;\n",
       "    }\n",
       "</style>\n",
       "<table border=\"1\" class=\"dataframe\">\n",
       "  <thead>\n",
       "    <tr style=\"text-align: right;\">\n",
       "      <th></th>\n",
       "      <th>Fraudulent Transactions</th>\n",
       "      <th>Total Transaction</th>\n",
       "      <th>Possibility of Fraud</th>\n",
       "      <th>Amount lost</th>\n",
       "    </tr>\n",
       "  </thead>\n",
       "  <tbody>\n",
       "    <tr>\n",
       "      <th>'0'</th>\n",
       "      <td>48</td>\n",
       "      <td>2452</td>\n",
       "      <td>0.019576</td>\n",
       "      <td>31549.35</td>\n",
       "    </tr>\n",
       "    <tr>\n",
       "      <th>'4'</th>\n",
       "      <td>1410</td>\n",
       "      <td>109025</td>\n",
       "      <td>0.012933</td>\n",
       "      <td>736585.29</td>\n",
       "    </tr>\n",
       "    <tr>\n",
       "      <th>'2'</th>\n",
       "      <td>2344</td>\n",
       "      <td>187310</td>\n",
       "      <td>0.012514</td>\n",
       "      <td>1294385.94</td>\n",
       "    </tr>\n",
       "    <tr>\n",
       "      <th>'3'</th>\n",
       "      <td>1755</td>\n",
       "      <td>147131</td>\n",
       "      <td>0.011928</td>\n",
       "      <td>934412.47</td>\n",
       "    </tr>\n",
       "    <tr>\n",
       "      <th>'1'</th>\n",
       "      <td>689</td>\n",
       "      <td>58131</td>\n",
       "      <td>0.011853</td>\n",
       "      <td>344333.05</td>\n",
       "    </tr>\n",
       "  </tbody>\n",
       "</table>\n",
       "</div>"
      ],
      "text/plain": [
       "     Fraudulent Transactions  Total Transaction  Possibility of Fraud  \\\n",
       "'0'                       48               2452              0.019576   \n",
       "'4'                     1410             109025              0.012933   \n",
       "'2'                     2344             187310              0.012514   \n",
       "'3'                     1755             147131              0.011928   \n",
       "'1'                      689              58131              0.011853   \n",
       "\n",
       "     Amount lost  \n",
       "'0'     31549.35  \n",
       "'4'    736585.29  \n",
       "'2'   1294385.94  \n",
       "'3'    934412.47  \n",
       "'1'    344333.05  "
      ]
     },
     "execution_count": 29,
     "metadata": {},
     "output_type": "execute_result"
    }
   ],
   "source": [
    "# get table of gender who have processed fraudulent transactions\n",
    "fraud_merchant = ask_fraudulent('age', 'Possibility of Fraud')\n",
    "fraud_merchant.head()"
   ]
  },
  {
   "cell_type": "code",
   "execution_count": 31,
   "id": "f8651e41",
   "metadata": {},
   "outputs": [
    {
     "data": {
      "image/png": "[encoded data removed]",
      "text/plain": [
       "<Figure size 1080x576 with 1 Axes>"
      ]
     },
     "metadata": {
      "needs_background": "light"
     },
     "output_type": "display_data"
    }
   ],
   "source": [
    "# plot the visual of the most fraudulent categories\n",
    "fig, ax = plt.subplots(figsize = (15, 8))\n",
    "sns.barplot(y=fraud_merchant['Possibility of Fraud'],\n",
    "            x=fraud_merchant.index, \n",
    "            ax=ax, palette=\"Blues_d\")\n",
    "plt.title('Most Fraudulent Transaction by Age', fontsize=20)\n",
    "plt.ylabel(\"Fraud Probability\")\n",
    "plt.xlabel(\"Age Code\")\n",
    "plt.show()"
   ]
  },
  {
   "cell_type": "markdown",
   "id": "3adfd478",
   "metadata": {},
   "source": [
    "Depending on what the age codes represent, but there is a pattern between age and fraudulent transactions. If age code 0 represent the younger class, then it means the younger the customer, the more prone they are to fraudulent transactions. If age code 0 represent the older group, it means the older the more prone to fraudulent transactions. with the exception of age code 4 and 1."
   ]
  },
  {
   "cell_type": "markdown",
   "id": "1fff1e39",
   "metadata": {},
   "source": [
    "### 3.5.7 What are steps and How do they affect fraudulent transactions"
   ]
  },
  {
   "cell_type": "code",
   "execution_count": 33,
   "id": "96795255",
   "metadata": {},
   "outputs": [
    {
     "data": {
      "text/html": [
       "<div>\n",
       "<style scoped>\n",
       "    .dataframe tbody tr th:only-of-type {\n",
       "        vertical-align: middle;\n",
       "    }\n",
       "\n",
       "    .dataframe tbody tr th {\n",
       "        vertical-align: top;\n",
       "    }\n",
       "\n",
       "    .dataframe thead th {\n",
       "        text-align: right;\n",
       "    }\n",
       "</style>\n",
       "<table border=\"1\" class=\"dataframe\">\n",
       "  <thead>\n",
       "    <tr style=\"text-align: right;\">\n",
       "      <th></th>\n",
       "      <th>Fraudulent Transactions</th>\n",
       "      <th>Total Transaction</th>\n",
       "      <th>Possibility of Fraud</th>\n",
       "      <th>Amount lost</th>\n",
       "    </tr>\n",
       "  </thead>\n",
       "  <tbody>\n",
       "    <tr>\n",
       "      <th>1</th>\n",
       "      <td>40</td>\n",
       "      <td>2424</td>\n",
       "      <td>0.016502</td>\n",
       "      <td>26069.14</td>\n",
       "    </tr>\n",
       "    <tr>\n",
       "      <th>0</th>\n",
       "      <td>40</td>\n",
       "      <td>2430</td>\n",
       "      <td>0.016461</td>\n",
       "      <td>12604.93</td>\n",
       "    </tr>\n",
       "    <tr>\n",
       "      <th>2</th>\n",
       "      <td>40</td>\n",
       "      <td>2462</td>\n",
       "      <td>0.016247</td>\n",
       "      <td>24153.85</td>\n",
       "    </tr>\n",
       "    <tr>\n",
       "      <th>3</th>\n",
       "      <td>40</td>\n",
       "      <td>2499</td>\n",
       "      <td>0.016006</td>\n",
       "      <td>26752.11</td>\n",
       "    </tr>\n",
       "    <tr>\n",
       "      <th>5</th>\n",
       "      <td>40</td>\n",
       "      <td>2525</td>\n",
       "      <td>0.015842</td>\n",
       "      <td>18465.36</td>\n",
       "    </tr>\n",
       "    <tr>\n",
       "      <th>...</th>\n",
       "      <td>...</td>\n",
       "      <td>...</td>\n",
       "      <td>...</td>\n",
       "      <td>...</td>\n",
       "    </tr>\n",
       "    <tr>\n",
       "      <th>174</th>\n",
       "      <td>40</td>\n",
       "      <td>3743</td>\n",
       "      <td>0.010687</td>\n",
       "      <td>18870.41</td>\n",
       "    </tr>\n",
       "    <tr>\n",
       "      <th>178</th>\n",
       "      <td>40</td>\n",
       "      <td>3743</td>\n",
       "      <td>0.010687</td>\n",
       "      <td>25027.83</td>\n",
       "    </tr>\n",
       "    <tr>\n",
       "      <th>152</th>\n",
       "      <td>40</td>\n",
       "      <td>3746</td>\n",
       "      <td>0.010678</td>\n",
       "      <td>29887.15</td>\n",
       "    </tr>\n",
       "    <tr>\n",
       "      <th>177</th>\n",
       "      <td>40</td>\n",
       "      <td>3758</td>\n",
       "      <td>0.010644</td>\n",
       "      <td>13834.49</td>\n",
       "    </tr>\n",
       "    <tr>\n",
       "      <th>175</th>\n",
       "      <td>40</td>\n",
       "      <td>3774</td>\n",
       "      <td>0.010599</td>\n",
       "      <td>11829.32</td>\n",
       "    </tr>\n",
       "  </tbody>\n",
       "</table>\n",
       "<p>180 rows × 4 columns</p>\n",
       "</div>"
      ],
      "text/plain": [
       "     Fraudulent Transactions  Total Transaction  Possibility of Fraud  \\\n",
       "1                         40               2424              0.016502   \n",
       "0                         40               2430              0.016461   \n",
       "2                         40               2462              0.016247   \n",
       "3                         40               2499              0.016006   \n",
       "5                         40               2525              0.015842   \n",
       "..                       ...                ...                   ...   \n",
       "174                       40               3743              0.010687   \n",
       "178                       40               3743              0.010687   \n",
       "152                       40               3746              0.010678   \n",
       "177                       40               3758              0.010644   \n",
       "175                       40               3774              0.010599   \n",
       "\n",
       "     Amount lost  \n",
       "1       26069.14  \n",
       "0       12604.93  \n",
       "2       24153.85  \n",
       "3       26752.11  \n",
       "5       18465.36  \n",
       "..           ...  \n",
       "174     18870.41  \n",
       "178     25027.83  \n",
       "152     29887.15  \n",
       "177     13834.49  \n",
       "175     11829.32  \n",
       "\n",
       "[180 rows x 4 columns]"
      ]
     },
     "execution_count": 33,
     "metadata": {},
     "output_type": "execute_result"
    }
   ],
   "source": [
    "# get table of gender who have processed fraudulent transactions\n",
    "fraud_merchant = ask_fraudulent('step', 'Possibility of Fraud')\n",
    "fraud_merchant"
   ]
  },
  {
   "cell_type": "code",
   "execution_count": 34,
   "id": "e8390095",
   "metadata": {},
   "outputs": [
    {
     "data": {
      "image/png": "[encoded data removed]",
      "text/plain": [
       "<Figure size 1080x576 with 1 Axes>"
      ]
     },
     "metadata": {
      "needs_background": "light"
     },
     "output_type": "display_data"
    }
   ],
   "source": [
    "# plot the visual of the most fraudulent categories\n",
    "fig, ax = plt.subplots(figsize = (15, 8))\n",
    "plt.scatter(fraud_merchant.index,\n",
    "            fraud_merchant['Possibility of Fraud'])\n",
    "plt.title('Posibilities of Fraudulent by step', fontsize=20)\n",
    "plt.ylabel(\"posibility\")\n",
    "plt.xlabel(\"step\")\n",
    "plt.show()"
   ]
  },
  {
   "cell_type": "markdown",
   "id": "2da17943",
   "metadata": {},
   "source": [
    "It is not obvious what steps stands for but from the overview section, we could see that the number of transactions increases as the step increases. Although, the number of frauds are constant. This is intuitionally abnormal, it is expected that the number of frauds change as the number of transactions are changing."
   ]
  },
  {
   "cell_type": "markdown",
   "id": "de6829b7",
   "metadata": {},
   "source": [
    "### 3.5.7 What range of Amount are fraudulent?"
   ]
  },
  {
   "cell_type": "code",
   "execution_count": 21,
   "id": "877d7ae8",
   "metadata": {},
   "outputs": [],
   "source": [
    "# get the probability of each amount being fraud\n",
    "amounts = fraudulent_df[fraudulent_df['amount'] < 1500]['amount'].value_counts()\n",
    "amounts_in_fraud = amounts.index\n",
    "all_amounts_count = dataset[dataset['amount'].isin(amounts_in_fraud)]['amount'].value_counts()\n",
    "probability = amounts / all_amounts_count"
   ]
  },
  {
   "cell_type": "code",
   "execution_count": 22,
   "id": "6854a5b5",
   "metadata": {},
   "outputs": [
    {
     "data": {
      "image/png": "[encoded data removed]",
      "text/plain": [
       "<Figure size 1080x576 with 1 Axes>"
      ]
     },
     "metadata": {
      "needs_background": "light"
     },
     "output_type": "display_data"
    }
   ],
   "source": [
    "# plot the visual of the most fraudulent categories\n",
    "fig, ax = plt.subplots(figsize = (15, 8))\n",
    "sns.scatterplot(x=probability.index, y=probability.values, color='b')\n",
    "plt.title('Amounts Classified as fraudulent', fontsize=20)\n",
    "plt.ylabel(\"Number of fraudulent\")\n",
    "plt.xlabel(\"Amount\")\n",
    "plt.show()"
   ]
  },
  {
   "cell_type": "markdown",
   "id": "8c0c2f3a",
   "metadata": {},
   "source": [
    "It is very safe to say all transactions amount above 600 are fraudulent. Although, transactions of amount 600 and below will still be an issue to classify using the amount feature alone. <br><br>"
   ]
  },
  {
   "cell_type": "markdown",
   "id": "bc9aea7a",
   "metadata": {},
   "source": [
    "## 4.0 Data Cleaning and Feature Engineering\n",
    "\n",
    "In this section, the recommendations from the exploratory data analysis phase is implemented. The dataset was cleaned and features engineered. The following process is expected to be performed on the dataset\n",
    "\n",
    "- Implement a function to reduce the memory consumption of the dataset and in consequence, increase the speed while using it from training and testing the model\n",
    "- Drop the zipcodeOri and zipMerchant features because they are same and contain only one unique value\n",
    "- Encode the categorical features\n",
    "- split the dataset into predictor and target variables\n",
    "- Balance the categories of the dataset\n",
    "- Split the dataset into test and train set"
   ]
  },
  {
   "cell_type": "markdown",
   "id": "2e7b9113",
   "metadata": {},
   "source": [
    "### 4.1 Reducing the memory consumption of the dataset\n",
    "In this subsection, a function was created to reduce the memory consumption of the dataset by"
   ]
  },
  {
   "cell_type": "code",
   "execution_count": 5,
   "id": "fb60ba5e",
   "metadata": {
    "execution": {
     "iopub.execute_input": "2022-10-13T14:13:35.259833Z",
     "iopub.status.busy": "2022-10-13T14:13:35.258998Z",
     "iopub.status.idle": "2022-10-13T14:13:36.084494Z",
     "shell.execute_reply": "2022-10-13T14:13:36.083038Z",
     "shell.execute_reply.started": "2022-10-13T14:13:35.259786Z"
    }
   },
   "outputs": [],
   "source": [
    "# read the raw dataset to avoid running the entire dataset each time we need a new raw dataset\n",
    "dataset = pd.read_csv('dataset/bank_fraud.csv')"
   ]
  },
  {
   "cell_type": "code",
   "execution_count": 6,
   "id": "481c5893",
   "metadata": {
    "execution": {
     "iopub.execute_input": "2022-10-13T14:13:40.750918Z",
     "iopub.status.busy": "2022-10-13T14:13:40.750363Z",
     "iopub.status.idle": "2022-10-13T14:13:40.771545Z",
     "shell.execute_reply": "2022-10-13T14:13:40.770281Z",
     "shell.execute_reply.started": "2022-10-13T14:13:40.750830Z"
    }
   },
   "outputs": [],
   "source": [
    "def reduce_mem_usage(df, verbose=True):\n",
    "    '''\n",
    "        Returns a new dataframe where the datatype of the numeric fields \n",
    "        has been changed to the smallest possible numeric type allowed \n",
    "        based on the values in the field without under-reserving or \n",
    "        over-reserving memory. The returned dataframe is expected to\n",
    "        consume lesser memory compare to the original variable\n",
    "        \n",
    "        parameters:\n",
    "        df - dataframe\n",
    "        \n",
    "        considerations:\n",
    "        This function will only reduce the size of dataframes which contain numeric\n",
    "        fields. It will return the original dataframe if used on dataframe where all\n",
    "        fields are non-numerical.\n",
    "        \n",
    "    '''\n",
    "    # define all datatype considered numeric\n",
    "    numerics = ['int16', 'int32', 'int64', 'float16', 'float32', 'float64']     \n",
    "    \n",
    "    # get the memory usage of the original dataset to keep track\n",
    "    start_mem = df.memory_usage().sum() / 1024**2\n",
    "    \n",
    "    \n",
    "    for col in df.columns:\n",
    "        col_type = df[col].dtypes\n",
    "        if col_type in numerics:\n",
    "            \n",
    "            # get min and max values of feature\n",
    "            c_min = df[col].min()\n",
    "            c_max = df[col].max()\n",
    "            \n",
    "            # If feature is of type int replace datatype with the lowest possible int datatype\n",
    "            if str(col_type)[:3] == 'int':\n",
    "                if c_min > np.iinfo(np.int8).min and c_max < np.iinfo(np.int8).max:\n",
    "                    df[col] = df[col].astype(np.int8)\n",
    "                elif c_min > np.iinfo(np.int16).min and c_max < np.iinfo(np.int16).max:\n",
    "                    df[col] = df[col].astype(np.int16)\n",
    "                elif c_min > np.iinfo(np.int32).min and c_max < np.iinfo(np.int32).max:\n",
    "                    df[col] = df[col].astype(np.int32)\n",
    "                elif c_min > np.iinfo(np.int64).min and c_max < np.iinfo(np.int64).max:\n",
    "                    df[col] = df[col].astype(np.int64) \n",
    "                    \n",
    "            # else replace with the lowest possible float datatype\n",
    "            else:\n",
    "                if c_min > np.finfo(np.float16).min and c_max < np.finfo(np.float16).max:\n",
    "                    df[col] = df[col].astype(np.float16)\n",
    "                elif c_min > np.finfo(np.float32).min and c_max < np.finfo(np.float32).max:\n",
    "                    df[col] = df[col].astype(np.float32)\n",
    "                else:\n",
    "                    df[col] = df[col].astype(np.float64)    \n",
    "    end_mem = df.memory_usage().sum() / 1024**2\n",
    "    if verbose: \n",
    "        print('Mem. usage decreased to {:5.2f} Mb ({:.1f}% reduction)'\n",
    "                .format(end_mem, 100 * (start_mem - end_mem) / start_mem))\n",
    "        \n",
    "    return df"
   ]
  },
  {
   "cell_type": "code",
   "execution_count": 7,
   "id": "dcf890ad",
   "metadata": {
    "execution": {
     "iopub.execute_input": "2022-10-13T14:13:41.159962Z",
     "iopub.status.busy": "2022-10-13T14:13:41.158728Z",
     "iopub.status.idle": "2022-10-13T14:13:41.194801Z",
     "shell.execute_reply": "2022-10-13T14:13:41.193543Z",
     "shell.execute_reply.started": "2022-10-13T14:13:41.159908Z"
    }
   },
   "outputs": [
    {
     "name": "stdout",
     "output_type": "stream",
     "text": [
      "Mem. usage decreased to 34.59 Mb (23.7% reduction)\n"
     ]
    }
   ],
   "source": [
    "# apply the memory reduction function on the dataset\n",
    "dataset = reduce_mem_usage(dataset)"
   ]
  },
  {
   "cell_type": "code",
   "execution_count": 8,
   "id": "0ca8c272",
   "metadata": {
    "execution": {
     "iopub.execute_input": "2022-10-13T14:13:42.649490Z",
     "iopub.status.busy": "2022-10-13T14:13:42.648703Z",
     "iopub.status.idle": "2022-10-13T14:13:42.673033Z",
     "shell.execute_reply": "2022-10-13T14:13:42.671730Z",
     "shell.execute_reply.started": "2022-10-13T14:13:42.649449Z"
    }
   },
   "outputs": [
    {
     "data": {
      "text/html": [
       "<div>\n",
       "<style scoped>\n",
       "    .dataframe tbody tr th:only-of-type {\n",
       "        vertical-align: middle;\n",
       "    }\n",
       "\n",
       "    .dataframe tbody tr th {\n",
       "        vertical-align: top;\n",
       "    }\n",
       "\n",
       "    .dataframe thead th {\n",
       "        text-align: right;\n",
       "    }\n",
       "</style>\n",
       "<table border=\"1\" class=\"dataframe\">\n",
       "  <thead>\n",
       "    <tr style=\"text-align: right;\">\n",
       "      <th></th>\n",
       "      <th>step</th>\n",
       "      <th>customer</th>\n",
       "      <th>age</th>\n",
       "      <th>gender</th>\n",
       "      <th>zipcodeOri</th>\n",
       "      <th>merchant</th>\n",
       "      <th>zipMerchant</th>\n",
       "      <th>category</th>\n",
       "      <th>amount</th>\n",
       "      <th>fraud</th>\n",
       "    </tr>\n",
       "  </thead>\n",
       "  <tbody>\n",
       "    <tr>\n",
       "      <th>0</th>\n",
       "      <td>0</td>\n",
       "      <td>'C1093826151'</td>\n",
       "      <td>'4'</td>\n",
       "      <td>'M'</td>\n",
       "      <td>'28007'</td>\n",
       "      <td>'M348934600'</td>\n",
       "      <td>'28007'</td>\n",
       "      <td>'es_transportation'</td>\n",
       "      <td>4.550781</td>\n",
       "      <td>0</td>\n",
       "    </tr>\n",
       "    <tr>\n",
       "      <th>1</th>\n",
       "      <td>0</td>\n",
       "      <td>'C352968107'</td>\n",
       "      <td>'2'</td>\n",
       "      <td>'M'</td>\n",
       "      <td>'28007'</td>\n",
       "      <td>'M348934600'</td>\n",
       "      <td>'28007'</td>\n",
       "      <td>'es_transportation'</td>\n",
       "      <td>39.687500</td>\n",
       "      <td>0</td>\n",
       "    </tr>\n",
       "    <tr>\n",
       "      <th>2</th>\n",
       "      <td>0</td>\n",
       "      <td>'C2054744914'</td>\n",
       "      <td>'4'</td>\n",
       "      <td>'F'</td>\n",
       "      <td>'28007'</td>\n",
       "      <td>'M1823072687'</td>\n",
       "      <td>'28007'</td>\n",
       "      <td>'es_transportation'</td>\n",
       "      <td>26.890625</td>\n",
       "      <td>0</td>\n",
       "    </tr>\n",
       "    <tr>\n",
       "      <th>3</th>\n",
       "      <td>0</td>\n",
       "      <td>'C1760612790'</td>\n",
       "      <td>'3'</td>\n",
       "      <td>'M'</td>\n",
       "      <td>'28007'</td>\n",
       "      <td>'M348934600'</td>\n",
       "      <td>'28007'</td>\n",
       "      <td>'es_transportation'</td>\n",
       "      <td>17.250000</td>\n",
       "      <td>0</td>\n",
       "    </tr>\n",
       "    <tr>\n",
       "      <th>4</th>\n",
       "      <td>0</td>\n",
       "      <td>'C757503768'</td>\n",
       "      <td>'5'</td>\n",
       "      <td>'M'</td>\n",
       "      <td>'28007'</td>\n",
       "      <td>'M348934600'</td>\n",
       "      <td>'28007'</td>\n",
       "      <td>'es_transportation'</td>\n",
       "      <td>35.718750</td>\n",
       "      <td>0</td>\n",
       "    </tr>\n",
       "  </tbody>\n",
       "</table>\n",
       "</div>"
      ],
      "text/plain": [
       "   step       customer  age gender zipcodeOri       merchant zipMerchant  \\\n",
       "0     0  'C1093826151'  '4'    'M'    '28007'   'M348934600'     '28007'   \n",
       "1     0   'C352968107'  '2'    'M'    '28007'   'M348934600'     '28007'   \n",
       "2     0  'C2054744914'  '4'    'F'    '28007'  'M1823072687'     '28007'   \n",
       "3     0  'C1760612790'  '3'    'M'    '28007'   'M348934600'     '28007'   \n",
       "4     0   'C757503768'  '5'    'M'    '28007'   'M348934600'     '28007'   \n",
       "\n",
       "              category     amount  fraud  \n",
       "0  'es_transportation'   4.550781      0  \n",
       "1  'es_transportation'  39.687500      0  \n",
       "2  'es_transportation'  26.890625      0  \n",
       "3  'es_transportation'  17.250000      0  \n",
       "4  'es_transportation'  35.718750      0  "
      ]
     },
     "execution_count": 8,
     "metadata": {},
     "output_type": "execute_result"
    }
   ],
   "source": [
    "# view the dataset to be sure the function does not negatively affect the dataset\n",
    "dataset.head()"
   ]
  },
  {
   "cell_type": "markdown",
   "id": "18977e82",
   "metadata": {},
   "source": [
    "### 4.2 Dropping the zipcodeOri and zipMerchant features"
   ]
  },
  {
   "cell_type": "code",
   "execution_count": 9,
   "id": "24ca3e1b",
   "metadata": {
    "execution": {
     "iopub.execute_input": "2022-10-13T14:13:44.539717Z",
     "iopub.status.busy": "2022-10-13T14:13:44.538635Z",
     "iopub.status.idle": "2022-10-13T14:13:44.593432Z",
     "shell.execute_reply": "2022-10-13T14:13:44.592260Z",
     "shell.execute_reply.started": "2022-10-13T14:13:44.539670Z"
    }
   },
   "outputs": [
    {
     "data": {
      "text/plain": [
       "Index(['step', 'customer', 'age', 'gender', 'merchant', 'category', 'amount',\n",
       "       'fraud'],\n",
       "      dtype='object')"
      ]
     },
     "execution_count": 9,
     "metadata": {},
     "output_type": "execute_result"
    }
   ],
   "source": [
    "needed_columns = [column for column in dataset.columns \n",
    "                  if column not in ['zipcodeOri', 'zipMerchant']]\n",
    "\n",
    "dataset = dataset[needed_columns]\n",
    "dataset.columns"
   ]
  },
  {
   "cell_type": "markdown",
   "id": "a7669351",
   "metadata": {},
   "source": [
    "### 4.3 Encoding the categorical features\n",
    "\n",
    "All the categorical features in the dataset are nominal. It means that they do not have any intrinsinct order. The best means to encoode them into machine model friendly format is using one hot encoding. Although, features such as customer which has as much as 4000 unique entries  will create 4000 new columns and merchant which have 50 will create additional 50 columns. This will make our dataset bulky, memory costly, and slow. For those feature, they are converted into categorical variables and their class codes used to populate each entry. "
   ]
  },
  {
   "cell_type": "markdown",
   "id": "90da47c6",
   "metadata": {},
   "source": [
    "#### 4.3.1 Encoding Customer and merchant features"
   ]
  },
  {
   "cell_type": "code",
   "execution_count": 10,
   "id": "4acfb22d",
   "metadata": {
    "execution": {
     "iopub.execute_input": "2022-10-13T14:13:46.539737Z",
     "iopub.status.busy": "2022-10-13T14:13:46.538736Z",
     "iopub.status.idle": "2022-10-13T14:13:46.746489Z",
     "shell.execute_reply": "2022-10-13T14:13:46.745323Z",
     "shell.execute_reply.started": "2022-10-13T14:13:46.539697Z"
    }
   },
   "outputs": [
    {
     "data": {
      "text/html": [
       "<div>\n",
       "<style scoped>\n",
       "    .dataframe tbody tr th:only-of-type {\n",
       "        vertical-align: middle;\n",
       "    }\n",
       "\n",
       "    .dataframe tbody tr th {\n",
       "        vertical-align: top;\n",
       "    }\n",
       "\n",
       "    .dataframe thead th {\n",
       "        text-align: right;\n",
       "    }\n",
       "</style>\n",
       "<table border=\"1\" class=\"dataframe\">\n",
       "  <thead>\n",
       "    <tr style=\"text-align: right;\">\n",
       "      <th></th>\n",
       "      <th>step</th>\n",
       "      <th>customer</th>\n",
       "      <th>age</th>\n",
       "      <th>gender</th>\n",
       "      <th>merchant</th>\n",
       "      <th>category</th>\n",
       "      <th>amount</th>\n",
       "      <th>fraud</th>\n",
       "    </tr>\n",
       "  </thead>\n",
       "  <tbody>\n",
       "    <tr>\n",
       "      <th>0</th>\n",
       "      <td>0</td>\n",
       "      <td>210</td>\n",
       "      <td>'4'</td>\n",
       "      <td>'M'</td>\n",
       "      <td>30</td>\n",
       "      <td>'es_transportation'</td>\n",
       "      <td>4.550781</td>\n",
       "      <td>0</td>\n",
       "    </tr>\n",
       "    <tr>\n",
       "      <th>1</th>\n",
       "      <td>0</td>\n",
       "      <td>2753</td>\n",
       "      <td>'2'</td>\n",
       "      <td>'M'</td>\n",
       "      <td>30</td>\n",
       "      <td>'es_transportation'</td>\n",
       "      <td>39.687500</td>\n",
       "      <td>0</td>\n",
       "    </tr>\n",
       "    <tr>\n",
       "      <th>2</th>\n",
       "      <td>0</td>\n",
       "      <td>2285</td>\n",
       "      <td>'4'</td>\n",
       "      <td>'F'</td>\n",
       "      <td>18</td>\n",
       "      <td>'es_transportation'</td>\n",
       "      <td>26.890625</td>\n",
       "      <td>0</td>\n",
       "    </tr>\n",
       "    <tr>\n",
       "      <th>3</th>\n",
       "      <td>0</td>\n",
       "      <td>1650</td>\n",
       "      <td>'3'</td>\n",
       "      <td>'M'</td>\n",
       "      <td>30</td>\n",
       "      <td>'es_transportation'</td>\n",
       "      <td>17.250000</td>\n",
       "      <td>0</td>\n",
       "    </tr>\n",
       "    <tr>\n",
       "      <th>4</th>\n",
       "      <td>0</td>\n",
       "      <td>3585</td>\n",
       "      <td>'5'</td>\n",
       "      <td>'M'</td>\n",
       "      <td>30</td>\n",
       "      <td>'es_transportation'</td>\n",
       "      <td>35.718750</td>\n",
       "      <td>0</td>\n",
       "    </tr>\n",
       "  </tbody>\n",
       "</table>\n",
       "</div>"
      ],
      "text/plain": [
       "   step  customer  age gender  merchant             category     amount  fraud\n",
       "0     0       210  '4'    'M'        30  'es_transportation'   4.550781      0\n",
       "1     0      2753  '2'    'M'        30  'es_transportation'  39.687500      0\n",
       "2     0      2285  '4'    'F'        18  'es_transportation'  26.890625      0\n",
       "3     0      1650  '3'    'M'        30  'es_transportation'  17.250000      0\n",
       "4     0      3585  '5'    'M'        30  'es_transportation'  35.718750      0"
      ]
     },
     "execution_count": 10,
     "metadata": {},
     "output_type": "execute_result"
    }
   ],
   "source": [
    "# change datatype to categorical\n",
    "for column in ['customer', 'merchant']:\n",
    "    dataset[column] = dataset[column].astype('category')\n",
    "    \n",
    "# replace the categorical values with thier category codes\n",
    "dataset[['customer', 'merchant']] = dataset[['customer', 'merchant']].apply(lambda x: x.cat.codes)\n",
    "dataset.head(5)"
   ]
  },
  {
   "cell_type": "markdown",
   "id": "66c4dc86",
   "metadata": {},
   "source": [
    "#### 4.3.1 Encoding Age, gender and category\n",
    "\n",
    "Since this fields do not contain large distinct values, oneHotEncoding can be perfomed on them using the pandas get_dummy method."
   ]
  },
  {
   "cell_type": "code",
   "execution_count": 11,
   "id": "ba61f9a3",
   "metadata": {
    "execution": {
     "iopub.execute_input": "2022-10-13T14:13:47.289486Z",
     "iopub.status.busy": "2022-10-13T14:13:47.289096Z",
     "iopub.status.idle": "2022-10-13T14:13:47.749190Z",
     "shell.execute_reply": "2022-10-13T14:13:47.748218Z",
     "shell.execute_reply.started": "2022-10-13T14:13:47.289453Z"
    }
   },
   "outputs": [],
   "source": [
    "for column in ['age', 'gender', 'category']:\n",
    "    dataset = pd.concat([dataset, pd.get_dummies(dataset[column], \n",
    "                        prefix=column, dummy_na=True)], axis=1).drop([column], axis=1)"
   ]
  },
  {
   "cell_type": "code",
   "execution_count": 12,
   "id": "6d8cf153",
   "metadata": {
    "execution": {
     "iopub.execute_input": "2022-10-13T14:13:47.751833Z",
     "iopub.status.busy": "2022-10-13T14:13:47.751308Z",
     "iopub.status.idle": "2022-10-13T14:13:47.807175Z",
     "shell.execute_reply": "2022-10-13T14:13:47.806356Z",
     "shell.execute_reply.started": "2022-10-13T14:13:47.751785Z"
    }
   },
   "outputs": [
    {
     "name": "stdout",
     "output_type": "stream",
     "text": [
      "<class 'pandas.core.frame.DataFrame'>\n",
      "RangeIndex: 594643 entries, 0 to 594642\n",
      "Data columns (total 35 columns):\n",
      " #   Column                            Non-Null Count   Dtype  \n",
      "---  ------                            --------------   -----  \n",
      " 0   step                              594643 non-null  int16  \n",
      " 1   customer                          594643 non-null  int16  \n",
      " 2   merchant                          594643 non-null  int8   \n",
      " 3   amount                            594643 non-null  float16\n",
      " 4   fraud                             594643 non-null  int8   \n",
      " 5   age_'0'                           594643 non-null  uint8  \n",
      " 6   age_'1'                           594643 non-null  uint8  \n",
      " 7   age_'2'                           594643 non-null  uint8  \n",
      " 8   age_'3'                           594643 non-null  uint8  \n",
      " 9   age_'4'                           594643 non-null  uint8  \n",
      " 10  age_'5'                           594643 non-null  uint8  \n",
      " 11  age_'6'                           594643 non-null  uint8  \n",
      " 12  age_'U'                           594643 non-null  uint8  \n",
      " 13  age_nan                           594643 non-null  uint8  \n",
      " 14  gender_'E'                        594643 non-null  uint8  \n",
      " 15  gender_'F'                        594643 non-null  uint8  \n",
      " 16  gender_'M'                        594643 non-null  uint8  \n",
      " 17  gender_'U'                        594643 non-null  uint8  \n",
      " 18  gender_nan                        594643 non-null  uint8  \n",
      " 19  category_'es_barsandrestaurants'  594643 non-null  uint8  \n",
      " 20  category_'es_contents'            594643 non-null  uint8  \n",
      " 21  category_'es_fashion'             594643 non-null  uint8  \n",
      " 22  category_'es_food'                594643 non-null  uint8  \n",
      " 23  category_'es_health'              594643 non-null  uint8  \n",
      " 24  category_'es_home'                594643 non-null  uint8  \n",
      " 25  category_'es_hotelservices'       594643 non-null  uint8  \n",
      " 26  category_'es_hyper'               594643 non-null  uint8  \n",
      " 27  category_'es_leisure'             594643 non-null  uint8  \n",
      " 28  category_'es_otherservices'       594643 non-null  uint8  \n",
      " 29  category_'es_sportsandtoys'       594643 non-null  uint8  \n",
      " 30  category_'es_tech'                594643 non-null  uint8  \n",
      " 31  category_'es_transportation'      594643 non-null  uint8  \n",
      " 32  category_'es_travel'              594643 non-null  uint8  \n",
      " 33  category_'es_wellnessandbeauty'   594643 non-null  uint8  \n",
      " 34  category_nan                      594643 non-null  uint8  \n",
      "dtypes: float16(1), int16(2), int8(2), uint8(30)\n",
      "memory usage: 21.5 MB\n"
     ]
    }
   ],
   "source": [
    "dataset.info()"
   ]
  },
  {
   "cell_type": "markdown",
   "id": "ed9cdd1e",
   "metadata": {},
   "source": [
    "All columns in the dataset are now numerical. Observe that the size of the new dataset is even smaller than the optimized dataset. Pandas automatically assigns the smallest numerical datatype suitable for each dummy feature."
   ]
  },
  {
   "cell_type": "markdown",
   "id": "4d9e1e29",
   "metadata": {},
   "source": [
    "### 4.4 Split the dataset into target and predictor features"
   ]
  },
  {
   "cell_type": "code",
   "execution_count": 13,
   "id": "a5465e1b",
   "metadata": {
    "execution": {
     "iopub.execute_input": "2022-10-13T14:13:49.419570Z",
     "iopub.status.busy": "2022-10-13T14:13:49.419156Z",
     "iopub.status.idle": "2022-10-13T14:13:49.449148Z",
     "shell.execute_reply": "2022-10-13T14:13:49.447738Z",
     "shell.execute_reply.started": "2022-10-13T14:13:49.419533Z"
    }
   },
   "outputs": [],
   "source": [
    "# get the predictors\n",
    "dataset_X = dataset.drop(['fraud'], axis=1)\n",
    "\n",
    "# get the target\n",
    "dataset_Y = dataset['fraud']"
   ]
  },
  {
   "cell_type": "markdown",
   "id": "dbc5400b",
   "metadata": {},
   "source": [
    "### 4.5 Balancing the categories\n",
    "\n",
    "To avoid a model which is very good at predicting one category and bad at predicting the other, there is a need to balance the categories. In this case, the fraudulent transaction (class 1) are way smaller than the non-fraudulent transaction. An attempt to under sample the non-fraudulent class (i.e reduce the number of non-fraudulent entries) to same number with the fraudulent class will lead to great loss of data. On the other end, an attempt to duplicate the fraudulent entries to match the non-fraudulent will lead to redundancy which might not help the model. Hence, the choice to generate synthetic entries to increase the frausulent samples. SMOTE(Synthetic Minority Oversampling Technique) will be used."
   ]
  },
  {
   "cell_type": "code",
   "execution_count": 14,
   "id": "22adb7db",
   "metadata": {
    "execution": {
     "iopub.execute_input": "2022-10-13T14:13:50.619127Z",
     "iopub.status.busy": "2022-10-13T14:13:50.618679Z",
     "iopub.status.idle": "2022-10-13T14:13:53.189986Z",
     "shell.execute_reply": "2022-10-13T14:13:53.188815Z",
     "shell.execute_reply.started": "2022-10-13T14:13:50.619088Z"
    }
   },
   "outputs": [
    {
     "name": "stdout",
     "output_type": "stream",
     "text": [
      "The dataset now has (1174886, 34) shape\n"
     ]
    }
   ],
   "source": [
    "sm = SMOTE(random_state=20)\n",
    "dataset_X, dataset_Y = sm.fit_resample(dataset_X, dataset_Y)\n",
    "\n",
    "print(\"The dataset now has \" + str(dataset_X.shape) + \" shape\")"
   ]
  },
  {
   "cell_type": "markdown",
   "id": "06fbff82",
   "metadata": {},
   "source": [
    "### 4.5 Splitting the dataset into train and test sets\n",
    "\n",
    "There is a need to split the dataset into two fractions, a part for training of the model and the other for evaluating the performance of the model. In this case, 80% of the dataset was kept for training and the remaining 20% for splitting."
   ]
  },
  {
   "cell_type": "code",
   "execution_count": 15,
   "id": "d9c7ae2a",
   "metadata": {
    "execution": {
     "iopub.execute_input": "2022-10-13T14:13:53.192077Z",
     "iopub.status.busy": "2022-10-13T14:13:53.191683Z",
     "iopub.status.idle": "2022-10-13T14:13:53.710571Z",
     "shell.execute_reply": "2022-10-13T14:13:53.709321Z",
     "shell.execute_reply.started": "2022-10-13T14:13:53.192042Z"
    }
   },
   "outputs": [],
   "source": [
    "X_train, X_test, y_train, y_test = train_test_split(dataset_X, dataset_Y, test_size=0.2,\n",
    "                                                    random_state=42, \n",
    "                                                    shuffle=True)"
   ]
  },
  {
   "cell_type": "markdown",
   "id": "cacb0a4f",
   "metadata": {},
   "source": [
    "<br><br>\n",
    "\n",
    "# 5.0 Modeling and Evaluation"
   ]
  },
  {
   "cell_type": "markdown",
   "id": "026929e7",
   "metadata": {},
   "source": [
    "## 5.1 Creating a Base Model\n",
    "\n",
    "The base model for this task will be a model which predicts the mode of the categories all the time irrespective of the values of the predictors. This model is not trained and is independent of any analysis and evaluation or preprocessing. It is purely intuitive."
   ]
  },
  {
   "cell_type": "code",
   "execution_count": 16,
   "id": "05fcccd2",
   "metadata": {
    "execution": {
     "iopub.execute_input": "2022-10-13T14:13:55.859960Z",
     "iopub.status.busy": "2022-10-13T14:13:55.859181Z",
     "iopub.status.idle": "2022-10-13T14:13:55.864529Z",
     "shell.execute_reply": "2022-10-13T14:13:55.863704Z",
     "shell.execute_reply.started": "2022-10-13T14:13:55.859921Z"
    }
   },
   "outputs": [],
   "source": [
    "# Develope a model Class to predict the mode all of the time\n",
    "class BaseModel():\n",
    "    def predict(self, predictors):\n",
    "        return [0] * predictors.shape[0]"
   ]
  },
  {
   "cell_type": "code",
   "execution_count": 18,
   "id": "253552fc",
   "metadata": {
    "execution": {
     "iopub.execute_input": "2022-10-13T14:14:23.241592Z",
     "iopub.status.busy": "2022-10-13T14:14:23.241173Z",
     "iopub.status.idle": "2022-10-13T14:14:25.191181Z",
     "shell.execute_reply": "2022-10-13T14:14:25.189980Z",
     "shell.execute_reply.started": "2022-10-13T14:14:23.241558Z"
    }
   },
   "outputs": [
    {
     "name": "stdout",
     "output_type": "stream",
     "text": [
      "               precision    recall  f1-score   support\n",
      "\n",
      "0: Legitimate       1.00      0.99      0.99    594643\n",
      "1: Fraudulent       0.00      0.00      0.00         0\n",
      "\n",
      "     accuracy                           0.99    594643\n",
      "    macro avg       0.50      0.49      0.50    594643\n",
      " weighted avg       1.00      0.99      0.99    594643\n",
      "\n"
     ]
    }
   ],
   "source": [
    "# validating the base model using the raw dataset\n",
    "test_data = pd.read_csv(\"dataset/bank_fraud.csv\")\n",
    "model = BaseModel()\n",
    "predictions = model.predict(test_data.drop('fraud', axis='columns'))\n",
    "report = classification_report(predictions, test_data['fraud'], target_names=['0: Legitimate', '1: Fraudulent'])\n",
    "print(report)"
   ]
  },
  {
   "cell_type": "markdown",
   "id": "690569d9",
   "metadata": {},
   "source": [
    "The classification report indicates that the base model will generate the correct prediction 99% of the time (accuracy). But it will be unable to detect any fraudulent transaction (recall). Hence, the model is extremely useless for our usecase. **Our ideal model is not merely the model with the best accuracy. It is the model which has the highest sensitivity (recall) while still maintaining a reasonable level of accuracy.**"
   ]
  },
  {
   "cell_type": "code",
   "execution_count": 19,
   "id": "e71a975b",
   "metadata": {
    "execution": {
     "iopub.execute_input": "2022-10-13T14:14:38.305306Z",
     "iopub.status.busy": "2022-10-13T14:14:38.304886Z",
     "iopub.status.idle": "2022-10-13T14:14:38.310133Z",
     "shell.execute_reply": "2022-10-13T14:14:38.309019Z",
     "shell.execute_reply.started": "2022-10-13T14:14:38.305270Z"
    }
   },
   "outputs": [],
   "source": [
    "# to keep track of the performance of all the trained models. A table is defined \n",
    "# contain the precision, recall and f1 score of each model\n",
    "\n",
    "performance_table = {}"
   ]
  },
  {
   "cell_type": "markdown",
   "id": "83474ab8",
   "metadata": {},
   "source": [
    "## 5.2 Random Forest Classifier"
   ]
  },
  {
   "cell_type": "markdown",
   "id": "8de0c66a",
   "metadata": {},
   "source": [
    "### 5.2.1 Defining Hyperparameters"
   ]
  },
  {
   "cell_type": "code",
   "execution_count": 57,
   "id": "e8821302",
   "metadata": {},
   "outputs": [],
   "source": [
    "# # defining parameter ranges\n",
    "# param_grid = {'n_estimators': [10, 100], \n",
    "#               'random_state': [4, 10, 42],\n",
    "#               'criterion': [\"gini\", \"entropy\"], \n",
    "#               'verbose': [0, 1],\n",
    "#               'max_depth': [8, 12, 20]\n",
    "#              } \n",
    "\n",
    "# grid = GridSearchCV(RandomForestClassifier(), param_grid, refit = False, verbose = 3)\n",
    "  \n",
    "# # fitting the model for grid search\n",
    "# grid.fit(X_train, y_train)"
   ]
  },
  {
   "cell_type": "markdown",
   "id": "859cc111",
   "metadata": {},
   "source": [
    "It is a good idea to use grid search to get the best parameters. But the process require computation speed and time. Hence for this project i have used teoretically suggested values."
   ]
  },
  {
   "cell_type": "markdown",
   "id": "6a9babf6",
   "metadata": {},
   "source": [
    "### 5.2.2 Training Model and Prediction"
   ]
  },
  {
   "cell_type": "code",
   "execution_count": 20,
   "id": "2a96e62e",
   "metadata": {
    "execution": {
     "iopub.execute_input": "2022-10-13T14:14:48.949796Z",
     "iopub.status.busy": "2022-10-13T14:14:48.949222Z",
     "iopub.status.idle": "2022-10-13T14:15:00.151173Z",
     "shell.execute_reply": "2022-10-13T14:15:00.150031Z",
     "shell.execute_reply.started": "2022-10-13T14:14:48.949716Z"
    }
   },
   "outputs": [],
   "source": [
    "# training model\n",
    "model_rf = RandomForestClassifier(n_estimators=10, max_depth=8, random_state=42)\n",
    "model_rf.fit(X_train, y_train)\n",
    "prediction = model_rf.predict(X_test)"
   ]
  },
  {
   "cell_type": "markdown",
   "id": "732fc53a",
   "metadata": {},
   "source": [
    "### 5.2.3 Evaluating the Model"
   ]
  },
  {
   "cell_type": "code",
   "execution_count": 21,
   "id": "007f7a84",
   "metadata": {
    "execution": {
     "iopub.execute_input": "2022-10-13T14:15:00.156212Z",
     "iopub.status.busy": "2022-10-13T14:15:00.155167Z",
     "iopub.status.idle": "2022-10-13T14:15:00.883023Z",
     "shell.execute_reply": "2022-10-13T14:15:00.881654Z",
     "shell.execute_reply.started": "2022-10-13T14:15:00.156156Z"
    }
   },
   "outputs": [
    {
     "name": "stdout",
     "output_type": "stream",
     "text": [
      "               precision    recall  f1-score   support\n",
      "\n",
      "0: Legitimate       0.97      0.99      0.98    114615\n",
      "1: Fraudulent       0.99      0.97      0.98    120363\n",
      "\n",
      "     accuracy                           0.98    234978\n",
      "    macro avg       0.98      0.98      0.98    234978\n",
      " weighted avg       0.98      0.98      0.98    234978\n",
      "\n"
     ]
    }
   ],
   "source": [
    "print(classification_report(prediction, y_test, \n",
    "                            target_names=['0: Legitimate', '1: Fraudulent'])\n",
    "     )\n",
    "\n",
    "# Insert the performance inside performance table\n",
    "recall = recall_score(prediction, y_test, pos_label=1)\n",
    "precision = precision_score(prediction, y_test, pos_label=1)\n",
    "fi_score = f1_score(prediction, y_test, pos_label=1)\n",
    "\n",
    "performance_table.update({'recall': recall,\n",
    "                         'precision': precision,\n",
    "                          'fi_score': fi_score\n",
    "                         })"
   ]
  },
  {
   "cell_type": "markdown",
   "id": "9f47546a",
   "metadata": {},
   "source": [
    "The random forest classifier produces a recall value of 0.97. It means that the model will be able to detect 97 out of every 100 fraudulent transactions, missing 3. It has a precision of 99% which means that of every 100 transactions it classifies as fraudulent one is actually legimate. "
   ]
  },
  {
   "cell_type": "markdown",
   "id": "943331ac",
   "metadata": {},
   "source": [
    "## 5.3 Ridge Classifier\n",
    "\n",
    "Unlike the Random Forest Classifier, the Ridge Classifier is a linear model which builds on the Linear regressor to improve performance."
   ]
  },
  {
   "cell_type": "markdown",
   "id": "3748f3f8",
   "metadata": {},
   "source": [
    "### 5.3.1 Training Model and Prediction"
   ]
  },
  {
   "cell_type": "code",
   "execution_count": 22,
   "id": "ba76c220",
   "metadata": {
    "execution": {
     "iopub.execute_input": "2022-10-13T14:15:10.497665Z",
     "iopub.status.busy": "2022-10-13T14:15:10.496493Z",
     "iopub.status.idle": "2022-10-13T14:15:11.329004Z",
     "shell.execute_reply": "2022-10-13T14:15:11.327533Z",
     "shell.execute_reply.started": "2022-10-13T14:15:10.497619Z"
    }
   },
   "outputs": [],
   "source": [
    "# training model\n",
    "model_ridge = RidgeClassifier()\n",
    "model_ridge.fit(X_train, y_train)\n",
    "prediction = model_ridge.predict(X_test)"
   ]
  },
  {
   "cell_type": "markdown",
   "id": "85c22dbd",
   "metadata": {},
   "source": [
    "### 5.3.2 Evaluating the Model"
   ]
  },
  {
   "cell_type": "code",
   "execution_count": 23,
   "id": "ca55e9a4",
   "metadata": {
    "execution": {
     "iopub.execute_input": "2022-10-13T14:15:13.026994Z",
     "iopub.status.busy": "2022-10-13T14:15:13.026589Z",
     "iopub.status.idle": "2022-10-13T14:15:13.753282Z",
     "shell.execute_reply": "2022-10-13T14:15:13.751980Z",
     "shell.execute_reply.started": "2022-10-13T14:15:13.026946Z"
    }
   },
   "outputs": [
    {
     "name": "stdout",
     "output_type": "stream",
     "text": [
      "               precision    recall  f1-score   support\n",
      "\n",
      "0: Legitimate       0.97      0.98      0.97    116026\n",
      "1: Fraudulent       0.98      0.97      0.97    118952\n",
      "\n",
      "     accuracy                           0.97    234978\n",
      "    macro avg       0.97      0.97      0.97    234978\n",
      " weighted avg       0.97      0.97      0.97    234978\n",
      "\n"
     ]
    }
   ],
   "source": [
    "print(classification_report(prediction, y_test, \n",
    "                            target_names=['0: Legitimate', '1: Fraudulent'])\n",
    "     )\n",
    "\n",
    "# Insert the performance inside performance table\n",
    "recall = recall_score(prediction, y_test, pos_label=1)\n",
    "precision = precision_score(prediction, y_test, pos_label=1)\n",
    "fi_score = f1_score(prediction, y_test, pos_label=1)\n",
    "\n",
    "performance_table.update({'recall': recall,\n",
    "                         'precision': precision,\n",
    "                          'fi_score': fi_score\n",
    "                         })"
   ]
  },
  {
   "cell_type": "markdown",
   "id": "b6547495",
   "metadata": {},
   "source": [
    "The Ridge Classifier performance is not as good as the Random forest. The model gets 1% more wrongly on both recall and accuracy"
   ]
  },
  {
   "cell_type": "markdown",
   "id": "d41de2d3",
   "metadata": {},
   "source": [
    "## 5.5 Nearest Neighbour Classifier"
   ]
  },
  {
   "cell_type": "markdown",
   "id": "a29cd11b",
   "metadata": {},
   "source": [
    "### 5.5.1 Training Model and Prediction"
   ]
  },
  {
   "cell_type": "code",
   "execution_count": null,
   "id": "8691f811",
   "metadata": {
    "execution": {
     "iopub.execute_input": "2022-10-13T15:59:00.995749Z",
     "iopub.status.busy": "2022-10-13T15:59:00.994924Z"
    }
   },
   "outputs": [],
   "source": [
    "model_knn = KNeighborsClassifier(10)\n",
    "model_knn.fit(X_train, y_train)\n",
    "prediction = model_knn.predict(X_test)"
   ]
  },
  {
   "cell_type": "markdown",
   "id": "7ae64a1c",
   "metadata": {},
   "source": [
    "### 5.5.2 Evaluating the model"
   ]
  },
  {
   "cell_type": "code",
   "execution_count": null,
   "id": "529c0568",
   "metadata": {},
   "outputs": [],
   "source": [
    "print(classification_report(prediction, y_test, \n",
    "                            target_names=['0: Legitimate', '1: Fraudulent'])\n",
    "     )\n",
    "\n",
    "# Insert the performance inside performance table\n",
    "recall = recall_score(prediction, y_test, pos_label=1)\n",
    "precision = precision_score(prediction, y_test, pos_label=1)\n",
    "fi_score = f1_score(prediction, y_test, pos_label=1)\n",
    "\n",
    "performance_table.update({'recall': recall,\n",
    "                         'precision': precision,\n",
    "                          'fi_score': fi_score\n",
    "                         })"
   ]
  },
  {
   "cell_type": "markdown",
   "id": "e20750c5",
   "metadata": {},
   "source": [
    "## 5.6 AdaBoost Classifier"
   ]
  },
  {
   "cell_type": "markdown",
   "id": "6e369f4f",
   "metadata": {},
   "source": [
    "### 5.6.1 Training Model and Prediction"
   ]
  },
  {
   "cell_type": "code",
   "execution_count": 24,
   "id": "5bc22578",
   "metadata": {
    "execution": {
     "iopub.execute_input": "2022-10-13T14:15:42.592587Z",
     "iopub.status.busy": "2022-10-13T14:15:42.592098Z",
     "iopub.status.idle": "2022-10-13T15:49:38.402037Z",
     "shell.execute_reply": "2022-10-13T15:49:38.400949Z",
     "shell.execute_reply.started": "2022-10-13T14:15:42.592547Z"
    }
   },
   "outputs": [],
   "source": [
    "model_knn = KNeighborsClassifier(10)\n",
    "model_knn.fit(X_train, y_train)\n",
    "prediction = model_knn.predict(X_test)"
   ]
  },
  {
   "cell_type": "markdown",
   "id": "62811aea",
   "metadata": {},
   "source": [
    "### 5.6.2 Training Model and Prediction"
   ]
  },
  {
   "cell_type": "code",
   "execution_count": 25,
   "id": "2be6fe52",
   "metadata": {
    "execution": {
     "iopub.execute_input": "2022-10-13T15:49:38.404230Z",
     "iopub.status.busy": "2022-10-13T15:49:38.403810Z",
     "iopub.status.idle": "2022-10-13T15:49:39.116688Z",
     "shell.execute_reply": "2022-10-13T15:49:39.115715Z",
     "shell.execute_reply.started": "2022-10-13T15:49:38.404198Z"
    }
   },
   "outputs": [
    {
     "name": "stdout",
     "output_type": "stream",
     "text": [
      "               precision    recall  f1-score   support\n",
      "\n",
      "0: Legitimate       0.96      0.99      0.98    114255\n",
      "1: Fraudulent       0.99      0.96      0.98    120723\n",
      "\n",
      "     accuracy                           0.98    234978\n",
      "    macro avg       0.98      0.98      0.98    234978\n",
      " weighted avg       0.98      0.98      0.98    234978\n",
      "\n"
     ]
    }
   ],
   "source": [
    "print(classification_report(prediction, y_test, \n",
    "                            target_names=['0: Legitimate', '1: Fraudulent'])\n",
    "     )\n",
    "\n",
    "# Insert the performance inside performance table\n",
    "recall = recall_score(prediction, y_test, pos_label=1)\n",
    "precision = precision_score(prediction, y_test, pos_label=1)\n",
    "fi_score = f1_score(prediction, y_test, pos_label=1)\n",
    "\n",
    "performance_table.update({'recall': recall,\n",
    "                         'precision': precision,\n",
    "                          'fi_score': fi_score\n",
    "                         })"
   ]
  },
  {
   "cell_type": "markdown",
   "id": "9cdc694b",
   "metadata": {},
   "source": [
    "The ADA boost classifier is able to identify 96 out of every 100 fraudulent entries. This model will miss 4 of every 100. It will predcict only one Legimate legimate transaction to be fraudulent for every 100. This is close to the performance of the previous models but not better."
   ]
  },
  {
   "cell_type": "markdown",
   "id": "364a2391",
   "metadata": {},
   "source": [
    "## 5.7 Stochastic Gradient Descent Classifier (SGD-Classifier)"
   ]
  },
  {
   "cell_type": "markdown",
   "id": "57930e42",
   "metadata": {},
   "source": [
    "### 5.7.1 Training Model and Prediction"
   ]
  },
  {
   "cell_type": "code",
   "execution_count": 26,
   "id": "0ef0615c",
   "metadata": {
    "execution": {
     "iopub.execute_input": "2022-10-13T15:49:39.118577Z",
     "iopub.status.busy": "2022-10-13T15:49:39.117946Z",
     "iopub.status.idle": "2022-10-13T15:51:17.171884Z",
     "shell.execute_reply": "2022-10-13T15:51:17.170465Z",
     "shell.execute_reply.started": "2022-10-13T15:49:39.118536Z"
    }
   },
   "outputs": [],
   "source": [
    "model_sgd = SGDClassifier()\n",
    "model_sgd.fit(X_train, y_train)\n",
    "prediction = model_sgd.predict(X_test)"
   ]
  },
  {
   "cell_type": "markdown",
   "id": "3257310d",
   "metadata": {},
   "source": [
    "### 5.7.2 Evaluating the model"
   ]
  },
  {
   "cell_type": "code",
   "execution_count": 27,
   "id": "25fab43c",
   "metadata": {
    "execution": {
     "iopub.execute_input": "2022-10-13T15:51:17.175922Z",
     "iopub.status.busy": "2022-10-13T15:51:17.175345Z",
     "iopub.status.idle": "2022-10-13T15:51:17.935454Z",
     "shell.execute_reply": "2022-10-13T15:51:17.934430Z",
     "shell.execute_reply.started": "2022-10-13T15:51:17.175871Z"
    }
   },
   "outputs": [
    {
     "name": "stdout",
     "output_type": "stream",
     "text": [
      "               precision    recall  f1-score   support\n",
      "\n",
      "0: Legitimate       0.89      0.91      0.90    115420\n",
      "1: Fraudulent       0.91      0.90      0.90    119558\n",
      "\n",
      "     accuracy                           0.90    234978\n",
      "    macro avg       0.90      0.90      0.90    234978\n",
      " weighted avg       0.90      0.90      0.90    234978\n",
      "\n"
     ]
    }
   ],
   "source": [
    "print(classification_report(prediction, y_test, \n",
    "                            target_names=['0: Legitimate', '1: Fraudulent'])\n",
    "     )\n",
    "\n",
    "# Insert the performance inside performance table\n",
    "recall = recall_score(prediction, y_test, pos_label=1)\n",
    "precision = precision_score(prediction, y_test, pos_label=1)\n",
    "fi_score = f1_score(prediction, y_test, pos_label=1)\n",
    "\n",
    "performance_table.update({'recall': recall,\n",
    "                         'precision': precision,\n",
    "                          'fi_score': fi_score\n",
    "                         })"
   ]
  },
  {
   "cell_type": "markdown",
   "id": "d7c8164f",
   "metadata": {},
   "source": [
    "This model has the worst performance of the models trained so far. It will miss about 10 of every 100 transactions. and classify similar number of legitimate transaction as fraudulent."
   ]
  },
  {
   "cell_type": "markdown",
   "id": "11139244",
   "metadata": {},
   "source": [
    "## 5.8 Extreme Gradient Boosting (XGBoost)"
   ]
  },
  {
   "cell_type": "markdown",
   "id": "8ab2cb85",
   "metadata": {},
   "source": [
    "### 5.8.1 Training Model and Prediction"
   ]
  },
  {
   "cell_type": "code",
   "execution_count": 28,
   "id": "5168c9d3",
   "metadata": {
    "execution": {
     "iopub.execute_input": "2022-10-13T15:51:17.937536Z",
     "iopub.status.busy": "2022-10-13T15:51:17.937064Z",
     "iopub.status.idle": "2022-10-13T15:52:44.648142Z",
     "shell.execute_reply": "2022-10-13T15:52:44.647102Z",
     "shell.execute_reply.started": "2022-10-13T15:51:17.937489Z"
    }
   },
   "outputs": [],
   "source": [
    "model_xgb = xgb.XGBClassifier()\n",
    "model_xgb.fit(X_train, y_train)\n",
    "prediction = model_xgb.predict(X_test)"
   ]
  },
  {
   "cell_type": "markdown",
   "id": "b68a5b02",
   "metadata": {},
   "source": [
    "### 5.8.2 Evaluating the model"
   ]
  },
  {
   "cell_type": "code",
   "execution_count": 29,
   "id": "a938ee43",
   "metadata": {
    "execution": {
     "iopub.execute_input": "2022-10-13T15:52:44.653035Z",
     "iopub.status.busy": "2022-10-13T15:52:44.652180Z",
     "iopub.status.idle": "2022-10-13T15:52:45.460686Z",
     "shell.execute_reply": "2022-10-13T15:52:45.459481Z",
     "shell.execute_reply.started": "2022-10-13T15:52:44.652993Z"
    }
   },
   "outputs": [
    {
     "name": "stdout",
     "output_type": "stream",
     "text": [
      "               precision    recall  f1-score   support\n",
      "\n",
      "0: Legitimate       1.00      1.00      1.00    117540\n",
      "1: Fraudulent       1.00      1.00      1.00    117438\n",
      "\n",
      "     accuracy                           1.00    234978\n",
      "    macro avg       1.00      1.00      1.00    234978\n",
      " weighted avg       1.00      1.00      1.00    234978\n",
      "\n"
     ]
    }
   ],
   "source": [
    "print(classification_report(prediction, y_test, \n",
    "                            target_names=['0: Legitimate', '1: Fraudulent'])\n",
    "     )\n",
    "\n",
    "# Insert the performance inside performance table\n",
    "recall = recall_score(prediction, y_test, pos_label=1)\n",
    "precision = precision_score(prediction, y_test, pos_label=1)\n",
    "fi_score = f1_score(prediction, y_test, pos_label=1)\n",
    "\n",
    "performance_table.update({'recall': recall,\n",
    "                         'precision': precision,\n",
    "                          'fi_score': fi_score\n",
    "                         })"
   ]
  },
  {
   "cell_type": "markdown",
   "id": "54234647",
   "metadata": {},
   "source": [
    "The gradient boosting model has perfect predictions for all the transactions. It is able to classify the transactions correctly without mistakes."
   ]
  },
  {
   "cell_type": "markdown",
   "id": "227402f8",
   "metadata": {},
   "source": [
    "## 6.0 Choice of Model\n",
    "\n",
    "In this section we compare the various model trained taking into account the recall values, precision and accuracy. There are models with closely related performances, this section compares them relative to the aim and objective of the project. At it has been initially stated, the goal of the pproject is to identify fraudulent transactions and save money, hence the best model would be the model which can identify the most number of fraudulent transactions.\n",
    "Although, a lower accuracy either by classifying so many non-fraudulent transactions as fraudulent (FP) might lead to a lack of trust and believe in the model. It will also lead to more time consumption and slow down the speed of processing transaction because there will have to be manual validation each time the model flags a transaction as fraudulent. If that cycle of false positive frequents, the model might become tiring and complicates the process of processing transactions.\n",
    "\n",
    "For an instance, a model which predicts that every transaction is fraudulent will have a perfect recall value. It will be able to identify every fraudulent transaction. Although, the accuracy of this model will be very bad because it will have a bad precision. This model in the long run is extremely useless.\n",
    "\n",
    "Hence, Our ideal model, as stated prior, is not merely the model with the best accuracy or the best recall. It is the model which has the highest sensitivity (recall) while still maintaining a reasonable level of accuracy."
   ]
  },
  {
   "cell_type": "code",
   "execution_count": 28,
   "id": "3b39691b",
   "metadata": {},
   "outputs": [
    {
     "data": {
      "text/plain": [
       "<matplotlib.legend.Legend at 0x1faf35bfec8>"
      ]
     },
     "execution_count": 28,
     "metadata": {},
     "output_type": "execute_result"
    },
    {
     "data": {
      "image/png": "[encoded data removed]",
      "text/plain": [
       "<Figure size 1080x576 with 1 Axes>"
      ]
     },
     "metadata": {
      "needs_background": "light"
     },
     "output_type": "display_data"
    }
   ],
   "source": [
    "# scatter plot to compare the precision, accuracy and recall of all the models\n",
    "plt.figure(figsize=(15, 8))\n",
    "sns.scatterplot(x = ' Accuracy ', y = ' Recall', data=performance_table, hue='Model', legend='brief', s=200)\n",
    "sns.lineplot(x = ' Accuracy ', y = ' Recall', data=performance_table)\n",
    "plt.legend(loc=1, bbox_to_anchor=(1.2, 1.0), title=\"Model\")"
   ]
  },
  {
   "cell_type": "markdown",
   "id": "82ea30dd",
   "metadata": {},
   "source": [
    "The SGD Classifier and the base model are obviously not fit for our use case. While the SDG is way far behind in both recall and accuracy, the base model does well in accuracy but fails woefully in recall. We are most interested in the model which goes the highest to the top and fartest to the right. From the chart, **our  model is XGBoost**. It has an overall accuracy of 100% (1.0)."
   ]
  },
  {
   "cell_type": "markdown",
   "id": "7ed6b0b5",
   "metadata": {},
   "source": [
    "<br><br>\n",
    "## 7.0 Conclusion"
   ]
  },
  {
   "cell_type": "markdown",
   "id": "a96bb09d",
   "metadata": {},
   "source": [
    "In conclusion, Machine learning provides a very efficient solution to the problem of identification of fraudulent transactions with a view to reduce the loss of money. The model can be adapted into the bank's already existing digital transaction processing chanels to check and flag incoming fraudulent transactions requests from Merchants.This process will eliminate the stress, time and resources required to manually validate transactions, if it is even feasible."
   ]
  }
 ],
 "metadata": {
  "kernelspec": {
   "display_name": "Python 3 (ipykernel)",
   "language": "python",
   "name": "python3"
  },
  "language_info": {
   "codemirror_mode": {
    "name": "ipython",
    "version": 3
   },
   "file_extension": ".py",
   "mimetype": "text/x-python",
   "name": "python",
   "nbconvert_exporter": "python",
   "pygments_lexer": "ipython3",
   "version": "3.7.6"
  }
 },
 "nbformat": 4,
 "nbformat_minor": 5
}
